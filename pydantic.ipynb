{
 "cells": [
  {
   "cell_type": "markdown",
   "id": "1fb6fec2",
   "metadata": {},
   "source": [
    "# Валидация данных с помощью Pydantic"
   ]
  },
  {
   "cell_type": "markdown",
   "id": "3b3ca385",
   "metadata": {},
   "source": [
    "Pydantic - библиотека для python, которая решает проблемы валидации и приведения данных к нужному типу. Валидация данных необходима в задачах получения достоверных данных из различных баз данных, приложений и сервисов и т.д. "
   ]
  },
  {
   "cell_type": "markdown",
   "id": "242e5c3c",
   "metadata": {},
   "source": [
    "## Пример\n",
    "\n",
    "Есть Cool Service с интересной фичей. Остальные сервисы не хотят ее реализовывать, но хотят интегрироваться. \n",
    "\n",
    "У User должен быть uuid и прочие данные. Первые два сервиса передают правильные данные, но третий сервис вместо uuid передает строку, которая не  является uuid. Из-за этого наш сервис падает. Если бы мы использовали валидацию входных данных, то вывели бы ошибку и наш сервис не упал. \n",
    "<img src=\"./images/cool-service.png\" width=400>"
   ]
  },
  {
   "cell_type": "markdown",
   "id": "e6f58f9e",
   "metadata": {},
   "source": [
    "Что это такое?\n",
    "Зачем?\n",
    "Как использовать?\n",
    "Пример (?)"
   ]
  },
  {
   "cell_type": "markdown",
   "id": "a31e18c2",
   "metadata": {},
   "source": [
    "***"
   ]
  },
  {
   "cell_type": "markdown",
   "id": "77d369f1",
   "metadata": {},
   "source": [
    "## Почему pydantic подходит для валидации данных?\n",
    "\n",
    "Для того, чтобы понять почему pydantic удобен для валидации данных рассмотрим другие инструменты для валидации данных в python.\n"
   ]
  },
  {
   "cell_type": "markdown",
   "id": "eb500918",
   "metadata": {},
   "source": [
    "### 1. dataclass\n",
    "В Python есть dataclass, но он не делает валидирование типов. Т.е. в dataclass можно указать типы каждой переменной, но при создании объекта не будет никакой проверки для значений переменных. "
   ]
  },
  {
   "cell_type": "code",
   "execution_count": 1,
   "id": "c12d849d",
   "metadata": {},
   "outputs": [],
   "source": [
    "from dataclasses import dataclass\n",
    "\n",
    "\n",
    "@dataclass\n",
    "class User:\n",
    "    uuid: str\n",
    "    name: str"
   ]
  },
  {
   "cell_type": "code",
   "execution_count": 2,
   "id": "e52e6609",
   "metadata": {},
   "outputs": [
    {
     "data": {
      "text/plain": [
       "(int, int)"
      ]
     },
     "execution_count": 2,
     "metadata": {},
     "output_type": "execute_result"
    }
   ],
   "source": [
    "user = User(uuid=10, name=10)\n",
    "type(user.uuid), type(user.name)"
   ]
  },
  {
   "cell_type": "markdown",
   "id": "59212133",
   "metadata": {},
   "source": [
    "__________________________________"
   ]
  },
  {
   "cell_type": "markdown",
   "id": "5f0119a2",
   "metadata": {},
   "source": [
    "## Существующие библиотеки для валидации данных"
   ]
  },
  {
   "cell_type": "markdown",
   "id": "d75e58f0",
   "metadata": {},
   "source": [
    "Так как встроенные средства языка Python не позволяют легко выполнять валидацию данных, рассмотрим строние библиотеки для валидации данных.\n",
    "\n",
    "Самые популярные библиотеки валидирующие данные для языка Python:\n",
    "* Cerberus 2.6k ⭐, Voluptuous 1.7k ⭐, Schema 2.5k ⭐ (работа с этими библиотеками похожа)\n",
    "* Marshmallow 5.9k ⭐\n",
    "* Pydantic 8.7k ⭐"
   ]
  },
  {
   "cell_type": "markdown",
   "id": "61130a79",
   "metadata": {},
   "source": [
    "***"
   ]
  },
  {
   "cell_type": "markdown",
   "id": "8c43b426",
   "metadata": {},
   "source": [
    "## Сerberus"
   ]
  },
  {
   "cell_type": "markdown",
   "id": "cb292b5f",
   "metadata": {},
   "source": [
    "Предоставляет функционал для валидализации данных"
   ]
  },
  {
   "cell_type": "code",
   "execution_count": 3,
   "id": "aaafe65d",
   "metadata": {},
   "outputs": [
    {
     "name": "stdout",
     "output_type": "stream",
     "text": [
      "\u001b[33mDEPRECATION: Configuring installation scheme with distutils config files is deprecated and will no longer work in the near future. If you are using a Homebrew or Linuxbrew Python, please see discussion at https://github.com/Homebrew/homebrew-core/issues/76621\u001b[0m\n",
      "Requirement already satisfied: Cerberus in /usr/local/lib/python3.9/site-packages (1.3.4)\n",
      "Requirement already satisfied: setuptools in /usr/local/lib/python3.9/site-packages (from Cerberus) (56.0.0)\n"
     ]
    }
   ],
   "source": [
    "!pip install Cerberus"
   ]
  },
  {
   "cell_type": "markdown",
   "id": "df04e12d",
   "metadata": {},
   "source": [
    "Для валидации необходимо отпределить схему валидализации и передать ее в класс Validator. Схема валидатора является mapping, чаще всего задается в виде стандартного dict"
   ]
  },
  {
   "cell_type": "code",
   "execution_count": 32,
   "id": "9522aa9f",
   "metadata": {},
   "outputs": [],
   "source": [
    "from cerberus import Validator"
   ]
  },
  {
   "cell_type": "code",
   "execution_count": 33,
   "id": "41fe729e",
   "metadata": {},
   "outputs": [],
   "source": [
    "user_validator = Validator(\n",
    "    {\n",
    "        'name': {'type': 'string'},\n",
    "        'email': {'type': 'string', 'required': True},\n",
    "        'age': {'type': 'integer', 'min': 0, 'max': 150}\n",
    "    }\n",
    ")"
   ]
  },
  {
   "cell_type": "code",
   "execution_count": 34,
   "id": "9a6036f2",
   "metadata": {},
   "outputs": [
    {
     "data": {
      "text/plain": [
       "True"
      ]
     },
     "execution_count": 34,
     "metadata": {},
     "output_type": "execute_result"
    }
   ],
   "source": [
    "user = {\n",
    "    'name': 'John Doe',\n",
    "    'email': 'john.doe@example.com',\n",
    "    'age': 30,\n",
    "}\n",
    "current_user = user_validator.validate(user)\n",
    "current_user"
   ]
  },
  {
   "cell_type": "markdown",
   "id": "99a3b08d",
   "metadata": {},
   "source": [
    "### Плюсы и минусы\n",
    "    ✅ Выполняется валидация данных\n",
    "    ❌ Свой собственный язык данных (str -> string, int -> integer)\n",
    "    ❌ Тяжело описать сложную схему с помощью dict\n",
    "    ❌ Сложные схемы проще описать в YAML файле\n",
    "    ❌ Выполняет только валидацию данных, не возвращает объект экземпляр класса"
   ]
  },
  {
   "cell_type": "markdown",
   "id": "1c9f13e4",
   "metadata": {},
   "source": [
    "***"
   ]
  },
  {
   "cell_type": "markdown",
   "id": "cf6fc459",
   "metadata": {},
   "source": [
    "## marshmallow"
   ]
  },
  {
   "cell_type": "code",
   "execution_count": 4,
   "id": "a3d8a177",
   "metadata": {},
   "outputs": [
    {
     "name": "stdout",
     "output_type": "stream",
     "text": [
      "\u001b[33mDEPRECATION: Configuring installation scheme with distutils config files is deprecated and will no longer work in the near future. If you are using a Homebrew or Linuxbrew Python, please see discussion at https://github.com/Homebrew/homebrew-core/issues/76621\u001b[0m\r\n",
      "Requirement already satisfied: marshmallow in /usr/local/lib/python3.9/site-packages (3.13.0)\r\n"
     ]
    }
   ],
   "source": [
    "!pip install marshmallow"
   ]
  },
  {
   "cell_type": "markdown",
   "id": "f96ff344",
   "metadata": {},
   "source": [
    "Схема описывается в виде класса с помощью типов из собственного модуля fields."
   ]
  },
  {
   "cell_type": "code",
   "execution_count": 6,
   "id": "0c641643",
   "metadata": {},
   "outputs": [],
   "source": [
    "from marshmallow import Schema, fields, validate\n",
    "\n",
    "\n",
    "class UserSchema(Schema):\n",
    "    name = fields.Str()\n",
    "    email = fields.Email(required=True)\n",
    "    age = fields.Int()"
   ]
  },
  {
   "cell_type": "code",
   "execution_count": 7,
   "id": "95999fb3",
   "metadata": {},
   "outputs": [
    {
     "data": {
      "text/plain": [
       "{'age': 30, 'name': 'John Doe', 'email': 'john.doe@example.com'}"
      ]
     },
     "execution_count": 7,
     "metadata": {},
     "output_type": "execute_result"
    }
   ],
   "source": [
    "user = {\n",
    "    'name': 'John Doe',\n",
    "    'email': 'john.doe@example.com',\n",
    "    'age': 30,\n",
    "}\n",
    "schema = UserSchema()\n",
    "schema.dump(user)"
   ]
  },
  {
   "cell_type": "markdown",
   "id": "b753cedd",
   "metadata": {},
   "source": [
    "Необходимо реализовать еще один класс, чтобы получить экземпляр класса"
   ]
  },
  {
   "cell_type": "code",
   "execution_count": 8,
   "id": "089a79d9",
   "metadata": {},
   "outputs": [],
   "source": [
    "from marshmallow import Schema, fields, validate, post_load, post_dump\n",
    "\n",
    "\n",
    "class User:\n",
    "    def __init__(self, name, email, age):\n",
    "        self.name = name\n",
    "        self.email = email\n",
    "        self.age = age\n",
    "        \n",
    "    def __repr__(self):\n",
    "        return f'name={self.name}, email={self.email}, age={self.age}'\n",
    "        \n",
    "\n",
    "class UserSchema(Schema):\n",
    "    name = fields.Str()\n",
    "    email = fields.Email(required=True)\n",
    "    age = fields.Int()\n",
    "    \n",
    "    @post_dump\n",
    "    def make_user(self, data, **kwargs):\n",
    "        return User(**data)"
   ]
  },
  {
   "cell_type": "code",
   "execution_count": 11,
   "id": "e5543afa",
   "metadata": {},
   "outputs": [
    {
     "data": {
      "text/plain": [
       "name=John Doe, email=john.doe@example.com, age=30"
      ]
     },
     "execution_count": 11,
     "metadata": {},
     "output_type": "execute_result"
    }
   ],
   "source": [
    "user = {\n",
    "    'name': 'John Doe',\n",
    "    'email': 'john.doe@example.com',\n",
    "    'age': 30,\n",
    "}\n",
    "schema = UserSchema()\n",
    "schema.dump(user)"
   ]
  },
  {
   "cell_type": "markdown",
   "id": "266480a1",
   "metadata": {},
   "source": [
    "Можно использовать вложенные схемы и структуры данных"
   ]
  },
  {
   "cell_type": "code",
   "execution_count": 53,
   "id": "413c304b",
   "metadata": {},
   "outputs": [],
   "source": [
    "from marshmallow import Schema, fields, validate\n",
    "\n",
    "\n",
    "class BookSchema(Schema):\n",
    "    title = fields.String(required=True, validate=validate.Length(max=120))\n",
    "    isbn = fields.String(required=True)\n",
    "\n",
    "class UserSchema(Schema):\n",
    "    email = fields.Email(required=True)\n",
    "    books = fields.Nested(BookSchema, many=True, required=False)"
   ]
  },
  {
   "cell_type": "markdown",
   "id": "5eed426e",
   "metadata": {},
   "source": [
    "### Плюсы и минусы\n",
    "\n",
    "    ✅ Схема задается в виде класса\n",
    "    ✅ Нет необходимости изучать дополнительный язык типов данных. Все типы данных содержатся в fields и любая ide может их подсказать\n",
    "    ✅ Можно возращать валидированный экземпляр класса\n",
    "    ❌ Если нужно вернуть экземпляр класса, то необходимо реализовать два класса"
   ]
  },
  {
   "cell_type": "markdown",
   "id": "98811bb7",
   "metadata": {},
   "source": [
    "***"
   ]
  },
  {
   "cell_type": "markdown",
   "id": "cce0c686",
   "metadata": {},
   "source": [
    "# pydantic"
   ]
  },
  {
   "cell_type": "code",
   "execution_count": 12,
   "id": "84073634",
   "metadata": {},
   "outputs": [
    {
     "name": "stdout",
     "output_type": "stream",
     "text": [
      "\u001b[33mDEPRECATION: Configuring installation scheme with distutils config files is deprecated and will no longer work in the near future. If you are using a Homebrew or Linuxbrew Python, please see discussion at https://github.com/Homebrew/homebrew-core/issues/76621\u001b[0m\n",
      "Requirement already satisfied: pydantic in /usr/local/lib/python3.9/site-packages (1.8.2)\n",
      "Requirement already satisfied: typing-extensions>=3.7.4.3 in /usr/local/lib/python3.9/site-packages (from pydantic) (3.10.0.2)\n"
     ]
    }
   ],
   "source": [
    "!pip install pydantic"
   ]
  },
  {
   "cell_type": "markdown",
   "id": "df7739a2",
   "metadata": {},
   "source": [
    "Объекты для валидации описываются с помощью классов, унаследованные от  класса BaseModel из модуля pydantic, который возвращает экземпляр класса. Для описание типов используются стандартные типы языка Python."
   ]
  },
  {
   "cell_type": "code",
   "execution_count": 42,
   "id": "d6022126",
   "metadata": {},
   "outputs": [],
   "source": [
    "from pydantic import BaseModel\n",
    "\n",
    "class User(BaseModel):\n",
    "    name: str\n",
    "    email: str\n",
    "    age: int"
   ]
  },
  {
   "cell_type": "code",
   "execution_count": 43,
   "id": "43c755b6",
   "metadata": {},
   "outputs": [
    {
     "data": {
      "text/plain": [
       "User(name='John Doe', email='john.doe@example.com', age=30)"
      ]
     },
     "execution_count": 43,
     "metadata": {},
     "output_type": "execute_result"
    }
   ],
   "source": [
    "user = {\n",
    "    'name': 'John Doe',\n",
    "    'email': 'john.doe@example.com',\n",
    "    'age': 30,\n",
    "}\n",
    "User(**user)"
   ]
  },
  {
   "cell_type": "markdown",
   "id": "27c68a5c",
   "metadata": {},
   "source": [
    "При использовании pydantic:\n",
    "\n",
    "    ✅ Схема задается в виде класса\n",
    "    ✅ Нет необходимости изучать дополнительный язык типов данных. Используется стандартные типы \n",
    "    ✅ Можно возращать валидированный экземпляр класса\n",
    "    ✅ Если нужно вернуть экземпляр класса, то нет необходимости реализовать дополнительный класс"
   ]
  },
  {
   "cell_type": "markdown",
   "id": "5ae3d53e",
   "metadata": {},
   "source": [
    "***"
   ]
  },
  {
   "cell_type": "markdown",
   "id": "a7fdb272",
   "metadata": {},
   "source": [
    "### Легкий способ перейти от python dataclass к валидации с помощью pydantic"
   ]
  },
  {
   "cell_type": "markdown",
   "id": "9b57a258",
   "metadata": {},
   "source": [
    "Пусть есть python dataclass. Переменная **age** дожна быть типа **int**, мы передали в эту переменную **str** и не было выведено ошибки:"
   ]
  },
  {
   "cell_type": "code",
   "execution_count": 13,
   "id": "8fdd2d47",
   "metadata": {},
   "outputs": [
    {
     "data": {
      "text/plain": [
       "User(name='John Doe', email='john.doe@example.com', age='wrong data')"
      ]
     },
     "execution_count": 13,
     "metadata": {},
     "output_type": "execute_result"
    }
   ],
   "source": [
    "from dataclasses import dataclass\n",
    "\n",
    "@dataclass\n",
    "class User:\n",
    "    name: str\n",
    "    email: str\n",
    "    age: int\n",
    "\n",
    "        \n",
    "User(email='john.doe@example.com', age='wrong data', name='John Doe')"
   ]
  },
  {
   "cell_type": "markdown",
   "id": "e2d0ca5f",
   "metadata": {},
   "source": [
    "Для того чтобы сделать валидацию необходимо использовать pydantic dataclass, для этого импортируем dataclass из pydantic.dataclasses.\n",
    "\n",
    "Укажем значение переменной **age='wrong data'** и pydantic выведет ошибку:"
   ]
  },
  {
   "cell_type": "code",
   "execution_count": 15,
   "id": "684f3488",
   "metadata": {},
   "outputs": [
    {
     "ename": "ValidationError",
     "evalue": "1 validation error for User\nage\n  value is not a valid integer (type=type_error.integer)",
     "output_type": "error",
     "traceback": [
      "\u001b[0;31m---------------------------------------------------------------------------\u001b[0m",
      "\u001b[0;31mValidationError\u001b[0m                           Traceback (most recent call last)",
      "\u001b[0;32m<ipython-input-15-486f19521bd0>\u001b[0m in \u001b[0;36m<module>\u001b[0;34m\u001b[0m\n\u001b[1;32m      7\u001b[0m     \u001b[0mage\u001b[0m\u001b[0;34m:\u001b[0m \u001b[0mint\u001b[0m\u001b[0;34m\u001b[0m\u001b[0;34m\u001b[0m\u001b[0m\n\u001b[1;32m      8\u001b[0m \u001b[0;34m\u001b[0m\u001b[0m\n\u001b[0;32m----> 9\u001b[0;31m \u001b[0mUser\u001b[0m\u001b[0;34m(\u001b[0m\u001b[0memail\u001b[0m\u001b[0;34m=\u001b[0m\u001b[0;34m'john.doe@example.com'\u001b[0m\u001b[0;34m,\u001b[0m \u001b[0mage\u001b[0m\u001b[0;34m=\u001b[0m\u001b[0;34m'wrong data'\u001b[0m\u001b[0;34m,\u001b[0m \u001b[0mname\u001b[0m\u001b[0;34m=\u001b[0m\u001b[0;34m'John Doe'\u001b[0m\u001b[0;34m)\u001b[0m\u001b[0;34m\u001b[0m\u001b[0;34m\u001b[0m\u001b[0m\n\u001b[0m",
      "\u001b[0;32m<string>\u001b[0m in \u001b[0;36m__init__\u001b[0;34m(self, name, email, age)\u001b[0m\n",
      "\u001b[0;32m/usr/local/lib/python3.9/site-packages/pydantic/dataclasses.cpython-39-darwin.so\u001b[0m in \u001b[0;36mpydantic.dataclasses._generate_pydantic_post_init._pydantic_post_init\u001b[0;34m()\u001b[0m\n",
      "\u001b[0;31mValidationError\u001b[0m: 1 validation error for User\nage\n  value is not a valid integer (type=type_error.integer)"
     ]
    }
   ],
   "source": [
    "from pydantic.dataclasses import dataclass\n",
    "\n",
    "@dataclass\n",
    "class User:\n",
    "    name: str\n",
    "    email: str\n",
    "    age: int\n",
    "\n",
    "User(email='john.doe@example.com', age='wrong data', name='John Doe')"
   ]
  },
  {
   "cell_type": "markdown",
   "id": "0a9b3090",
   "metadata": {},
   "source": [
    "Укажем корректные данные:"
   ]
  },
  {
   "cell_type": "code",
   "execution_count": 16,
   "id": "912d1d8d",
   "metadata": {},
   "outputs": [
    {
     "data": {
      "text/plain": [
       "User(name='John Doe', email='john.doe@example.com', age=30)"
      ]
     },
     "execution_count": 16,
     "metadata": {},
     "output_type": "execute_result"
    }
   ],
   "source": [
    "User(email='john.doe@example.com', age=30, name='John Doe')"
   ]
  },
  {
   "cell_type": "markdown",
   "id": "ed9b043d",
   "metadata": {},
   "source": [
    "Таким образом заменив одну строку импорта в программе, можно легко добавить валидацию данных в уже существующих проектах, где используются python dataclass"
   ]
  },
  {
   "cell_type": "markdown",
   "id": "77c9c0dd",
   "metadata": {},
   "source": [
    "***"
   ]
  },
  {
   "cell_type": "markdown",
   "id": "334eafc1",
   "metadata": {},
   "source": [
    "### Описание вложенных объектов данных"
   ]
  },
  {
   "cell_type": "markdown",
   "id": "e3129c83",
   "metadata": {},
   "source": [
    "Пусть у пользователей есть список книг. Попробуем описать структуру таких данных используя pydantic. \n",
    "\n",
    "Для этого просто в поле **books** укажем, что тип данных будет список книг, т.е. **List\\[Book\\]**"
   ]
  },
  {
   "cell_type": "code",
   "execution_count": 50,
   "id": "303e86b5",
   "metadata": {},
   "outputs": [
    {
     "data": {
      "text/plain": [
       "User(name='Isaac Asimov', email='isaac.asimov@example.com', books=[Book(name='Foundation', isbn=1), Book(name='Foundation and Empire', isbn=2)])"
      ]
     },
     "execution_count": 50,
     "metadata": {},
     "output_type": "execute_result"
    }
   ],
   "source": [
    "from pydantic import BaseModel\n",
    "from typing import List\n",
    "\n",
    "class Book(BaseModel):\n",
    "    name: str\n",
    "    isbn: int\n",
    "        \n",
    "\n",
    "class User(BaseModel):\n",
    "    name: Optional[str]\n",
    "    email: str\n",
    "    books: List[Book]\n",
    "\n",
    "        \n",
    "User(**{\n",
    "    'name': 'Isaac Asimov',\n",
    "    'email': 'isaac.asimov@example.com',\n",
    "    'books': [\n",
    "        {\n",
    "            'name': 'Foundation',\n",
    "            'isbn': 1,\n",
    "        },\n",
    "        {\n",
    "            'name': 'Foundation and Empire',\n",
    "            'isbn': 2,\n",
    "        },\n",
    "    ],\n",
    "})"
   ]
  },
  {
   "cell_type": "markdown",
   "id": "54d02396",
   "metadata": {},
   "source": [
    "Вложенные объекты данных намного проще описывать, чем в marshmallow (в marshmallow нужно использовать fields.Nested)"
   ]
  },
  {
   "cell_type": "markdown",
   "id": "0233221f",
   "metadata": {},
   "source": [
    "***"
   ]
  },
  {
   "cell_type": "markdown",
   "id": "c371b6d0",
   "metadata": {},
   "source": [
    "### Типы данных для валидации (Field types)"
   ]
  },
  {
   "cell_type": "markdown",
   "id": "a918f82c",
   "metadata": {},
   "source": [
    "Pydantic поддерживает:\n",
    "* стандартные типы данных языка Python\n",
    "* типы и конструкции из модуля typing\n",
    "* пользовательские типы данных"
   ]
  },
  {
   "cell_type": "markdown",
   "id": "de367a15",
   "metadata": {},
   "source": [
    "Рассмотрим пример с использованием Optional из typing и EmailStr тип из модуля pydantic:"
   ]
  },
  {
   "cell_type": "code",
   "execution_count": 18,
   "id": "a77302bf",
   "metadata": {},
   "outputs": [],
   "source": [
    "from typing import Optional\n",
    "from pydantic import BaseModel, EmailStr\n",
    "\n",
    "\n",
    "class UserSchema(BaseModel):\n",
    "    name: Optional[str]\n",
    "    email: EmailStr"
   ]
  },
  {
   "cell_type": "markdown",
   "id": "d92d5e26",
   "metadata": {},
   "source": [
    "Передаем имя и email, в таком случае данные корректны:"
   ]
  },
  {
   "cell_type": "code",
   "execution_count": 19,
   "id": "2f2fb194",
   "metadata": {},
   "outputs": [
    {
     "data": {
      "text/plain": [
       "UserSchema(name='John Doe', email='john.doe@example.com')"
      ]
     },
     "execution_count": 19,
     "metadata": {},
     "output_type": "execute_result"
    }
   ],
   "source": [
    "UserSchema(**{\n",
    "    'name': 'John Doe',\n",
    "    'email': 'john.doe@example.com',\n",
    "})"
   ]
  },
  {
   "cell_type": "markdown",
   "id": "c7371763",
   "metadata": {},
   "source": [
    "Имя не известно, известен только email. В таком случае данные корректны:"
   ]
  },
  {
   "cell_type": "code",
   "execution_count": 52,
   "id": "9df9740d",
   "metadata": {},
   "outputs": [
    {
     "data": {
      "text/plain": [
       "UserSchema(name=None, email='john.doe@example.com')"
      ]
     },
     "execution_count": 52,
     "metadata": {},
     "output_type": "execute_result"
    }
   ],
   "source": [
    "UserSchema(**{\n",
    "    'name': None,\n",
    "    'email': 'john.doe@example.com',\n",
    "})"
   ]
  },
  {
   "cell_type": "markdown",
   "id": "28bebef3",
   "metadata": {},
   "source": [
    "Теперь указываем некорректный email и получаем ошибку:"
   ]
  },
  {
   "cell_type": "code",
   "execution_count": 20,
   "id": "7b090c79",
   "metadata": {},
   "outputs": [
    {
     "ename": "ValidationError",
     "evalue": "1 validation error for UserSchema\nemail\n  value is not a valid email address (type=value_error.email)",
     "output_type": "error",
     "traceback": [
      "\u001b[0;31m---------------------------------------------------------------------------\u001b[0m",
      "\u001b[0;31mValidationError\u001b[0m                           Traceback (most recent call last)",
      "\u001b[0;32m<ipython-input-20-767bd48c6aa4>\u001b[0m in \u001b[0;36m<module>\u001b[0;34m\u001b[0m\n\u001b[0;32m----> 1\u001b[0;31m UserSchema(**{\n\u001b[0m\u001b[1;32m      2\u001b[0m     \u001b[0;34m'name'\u001b[0m\u001b[0;34m:\u001b[0m \u001b[0;34m'John Doe'\u001b[0m\u001b[0;34m,\u001b[0m\u001b[0;34m\u001b[0m\u001b[0;34m\u001b[0m\u001b[0m\n\u001b[1;32m      3\u001b[0m     \u001b[0;34m'email'\u001b[0m\u001b[0;34m:\u001b[0m \u001b[0;34m'john.doe'\u001b[0m\u001b[0;34m,\u001b[0m\u001b[0;34m\u001b[0m\u001b[0;34m\u001b[0m\u001b[0m\n\u001b[1;32m      4\u001b[0m })\n",
      "\u001b[0;32m/usr/local/lib/python3.9/site-packages/pydantic/main.cpython-39-darwin.so\u001b[0m in \u001b[0;36mpydantic.main.BaseModel.__init__\u001b[0;34m()\u001b[0m\n",
      "\u001b[0;31mValidationError\u001b[0m: 1 validation error for UserSchema\nemail\n  value is not a valid email address (type=value_error.email)"
     ]
    }
   ],
   "source": [
    "UserSchema(**{\n",
    "    'name': 'John Doe',\n",
    "    'email': 'john.doe',\n",
    "})"
   ]
  },
  {
   "cell_type": "markdown",
   "id": "eca01161",
   "metadata": {},
   "source": [
    "***"
   ]
  },
  {
   "cell_type": "markdown",
   "id": "9eb6f85a",
   "metadata": {},
   "source": [
    "Рассмотрим пример с использованием Union из typing. Указываем, что переменная **floor** может быть **int** или **str**:"
   ]
  },
  {
   "cell_type": "code",
   "execution_count": 22,
   "id": "90c64cd3",
   "metadata": {},
   "outputs": [],
   "source": [
    "from typing import Union\n",
    "from pydantic import BaseModel\n",
    "\n",
    "\n",
    "class FlatSchema(BaseModel):\n",
    "    floor: Union[int, str]"
   ]
  },
  {
   "cell_type": "markdown",
   "id": "ca6c854f",
   "metadata": {},
   "source": [
    "Переменная **floor** является **строкой**. Такие данные корректны: "
   ]
  },
  {
   "cell_type": "code",
   "execution_count": 24,
   "id": "85e656d4",
   "metadata": {},
   "outputs": [
    {
     "data": {
      "text/plain": [
       "FlatSchema(floor='underground')"
      ]
     },
     "execution_count": 24,
     "metadata": {},
     "output_type": "execute_result"
    }
   ],
   "source": [
    "FlatSchema(floor='underground')"
   ]
  },
  {
   "cell_type": "markdown",
   "id": "d03b8af8",
   "metadata": {},
   "source": [
    "Переменная **floor** является **числом**. Такие данные тоже корректны:"
   ]
  },
  {
   "cell_type": "code",
   "execution_count": 25,
   "id": "35ff7eca",
   "metadata": {},
   "outputs": [
    {
     "data": {
      "text/plain": [
       "FlatSchema(floor=73)"
      ]
     },
     "execution_count": 25,
     "metadata": {},
     "output_type": "execute_result"
    }
   ],
   "source": [
    "FlatSchema(floor=73)"
   ]
  },
  {
   "cell_type": "markdown",
   "id": "16db742a",
   "metadata": {},
   "source": [
    "***"
   ]
  },
  {
   "cell_type": "markdown",
   "id": "d71985a3",
   "metadata": {},
   "source": [
    "Потробуем вместо **Union\\[int, str\\]**, сначала указать  **str**, а потом **int**"
   ]
  },
  {
   "cell_type": "code",
   "execution_count": 27,
   "id": "8a932f98",
   "metadata": {},
   "outputs": [],
   "source": [
    "from typing import Union\n",
    "from pydantic import BaseModel\n",
    "\n",
    "    \n",
    "class FlatSchema(BaseModel):\n",
    "    floor: Union[str, int]"
   ]
  },
  {
   "cell_type": "markdown",
   "id": "c7dd7bae",
   "metadata": {},
   "source": [
    "В таком случае pydantic приведет 73 к строке, потому-что Pydantic  идет последовательно по типам из Union и пытается привести данные к заданому типу.  "
   ]
  },
  {
   "cell_type": "code",
   "execution_count": 29,
   "id": "d2903bb1",
   "metadata": {},
   "outputs": [
    {
     "data": {
      "text/plain": [
       "FlatSchema(floor='73')"
      ]
     },
     "execution_count": 29,
     "metadata": {},
     "output_type": "execute_result"
    }
   ],
   "source": [
    "FlatSchema(floor=73)"
   ]
  },
  {
   "cell_type": "markdown",
   "id": "600ed9bb",
   "metadata": {},
   "source": [
    "***"
   ]
  },
  {
   "cell_type": "markdown",
   "id": "01f98eb3",
   "metadata": {},
   "source": [
    "### Пользовательские типы данных"
   ]
  },
  {
   "cell_type": "markdown",
   "id": "f310edd8",
   "metadata": {},
   "source": [
    "Для создания своих собственных типов данных необходимо определить пользовательский класс с classmethod **\\_\\_get_validators\\_\\_**. Этот classmethod будет вызван, чтобы получить валидаторы для парсинга и валидации входных данных в классе модели."
   ]
  },
  {
   "cell_type": "markdown",
   "id": "ffe39ee7",
   "metadata": {},
   "source": [
    "Рассмотрим пользовательский тип **Floor**. В данном случае этаж должен быть целым числом, если где-то подземный этаж указан, как \"underground\", то мы должны заменить эту строку на число **-1**"
   ]
  },
  {
   "cell_type": "code",
   "execution_count": 48,
   "id": "f9c4baab",
   "metadata": {},
   "outputs": [],
   "source": [
    "\n",
    "class Floor:\n",
    "    floor_names = {\n",
    "            'underground': -1,\n",
    "        }\n",
    "    \n",
    "    @classmethod\n",
    "    def validate(cls, v):\n",
    "        if v in cls.floor_names:\n",
    "            v = cls.floor_names[v]\n",
    "        if isinstance(v, int):\n",
    "            return v\n",
    "        raise ValueError(f'int or underground string is expected instead of {v}')\n",
    "        \n",
    "    @classmethod\n",
    "    def __get_validators__(cls):\n",
    "        yield cls.validate"
   ]
  },
  {
   "cell_type": "markdown",
   "id": "6f06ca2d",
   "metadata": {},
   "source": [
    "Используем **Floor**, как пользовательский тип данных для переменной  **floor_number**"
   ]
  },
  {
   "cell_type": "code",
   "execution_count": 49,
   "id": "e3862fd2",
   "metadata": {},
   "outputs": [],
   "source": [
    "from pydantic import BaseModel\n",
    "\n",
    "class Flat(BaseModel):\n",
    "    floor_number: Floor"
   ]
  },
  {
   "cell_type": "markdown",
   "id": "84704d80",
   "metadata": {},
   "source": [
    "Присваиваем floor_number=1, данные остаются неизменными"
   ]
  },
  {
   "cell_type": "code",
   "execution_count": 34,
   "id": "46918d41",
   "metadata": {},
   "outputs": [
    {
     "data": {
      "text/plain": [
       "Flat(floor_number=1)"
      ]
     },
     "execution_count": 34,
     "metadata": {},
     "output_type": "execute_result"
    }
   ],
   "source": [
    "Flat(floor_number=1)"
   ]
  },
  {
   "cell_type": "markdown",
   "id": "3949ee8e",
   "metadata": {},
   "source": [
    "Присваиваем floor_number='underground', после валидации **floor_number** становится равным **-1**"
   ]
  },
  {
   "cell_type": "code",
   "execution_count": 40,
   "id": "f5b55f07",
   "metadata": {},
   "outputs": [
    {
     "data": {
      "text/plain": [
       "Flat(floor_number=-1)"
      ]
     },
     "execution_count": 40,
     "metadata": {},
     "output_type": "execute_result"
    }
   ],
   "source": [
    "Flat(floor_number='underground')"
   ]
  },
  {
   "cell_type": "markdown",
   "id": "da36d257",
   "metadata": {},
   "source": [
    "Допускаем опечатку в значении **floor_number** и получаем ошибку"
   ]
  },
  {
   "cell_type": "code",
   "execution_count": 41,
   "id": "78bcc114",
   "metadata": {},
   "outputs": [
    {
     "ename": "ValidationError",
     "evalue": "1 validation error for Flat\nfloor_number\n  int or underground string is expected instead of underground-1 (type=value_error)",
     "output_type": "error",
     "traceback": [
      "\u001b[0;31m---------------------------------------------------------------------------\u001b[0m",
      "\u001b[0;31mValidationError\u001b[0m                           Traceback (most recent call last)",
      "\u001b[0;32m<ipython-input-41-19023eb761a4>\u001b[0m in \u001b[0;36m<module>\u001b[0;34m\u001b[0m\n\u001b[0;32m----> 1\u001b[0;31m \u001b[0mFlat\u001b[0m\u001b[0;34m(\u001b[0m\u001b[0mfloor_number\u001b[0m\u001b[0;34m=\u001b[0m\u001b[0;34m'underground-1'\u001b[0m\u001b[0;34m)\u001b[0m\u001b[0;34m\u001b[0m\u001b[0;34m\u001b[0m\u001b[0m\n\u001b[0m",
      "\u001b[0;32m/usr/local/lib/python3.9/site-packages/pydantic/main.cpython-39-darwin.so\u001b[0m in \u001b[0;36mpydantic.main.BaseModel.__init__\u001b[0;34m()\u001b[0m\n",
      "\u001b[0;31mValidationError\u001b[0m: 1 validation error for Flat\nfloor_number\n  int or underground string is expected instead of underground-1 (type=value_error)"
     ]
    }
   ],
   "source": [
    "Flat(floor_number='underground-1')"
   ]
  },
  {
   "cell_type": "markdown",
   "id": "4c8c0469",
   "metadata": {},
   "source": [
    "***"
   ]
  },
  {
   "cell_type": "markdown",
   "id": "40dc343a",
   "metadata": {},
   "source": [
    "#### Пример с использованием нескольких валидаторов в пользовательском классе\n",
    "\n",
    "В Азии некоторые числа являются несчастливыми, например это числа 4, 14, 74. Мы собираемся запретить использовать несчастливые числа в качестве номеров этажей, но по преждему этаж 'underground' должен записываться, как этаж с номером -1.\n",
    "<img src=\"./images/floor-numbers.jpeg\" width=\"100\">\n",
    "\n",
    "Для этого в предыдущий класс **Floor** добавим дополнительный валидатор **is_luck** и в функции **\\_\\_get_validators\\_\\_** добавим валидатор **is_luck**. "
   ]
  },
  {
   "cell_type": "markdown",
   "id": "75c2204a",
   "metadata": {},
   "source": [
    "❗️\n",
    "\n",
    "При определении пользовательского типа данных в classmethod **\\_\\_get_validators\\_\\_** необходимо использовать **yield** вместо **return**, так как pydantic ожидает здесь генератор. Это позволяет использовать один или несколько валидаторов, которые будут вызываться для проверки ввода, каждый валидатор получит в качестве ввода значение, возвращенное предыдущим валидатором."
   ]
  },
  {
   "cell_type": "code",
   "execution_count": 50,
   "id": "7da5e5d4",
   "metadata": {},
   "outputs": [],
   "source": [
    "class AsianFloor:\n",
    "    floor_names = {\n",
    "            'underground': -1,\n",
    "        }\n",
    "    \n",
    "    @classmethod\n",
    "    def validate(cls, v):\n",
    "        if v in cls.floor_names:\n",
    "            v = cls.floor_names[v]\n",
    "        if isinstance(v, int):\n",
    "            return v\n",
    "        raise ValueError(f'int type or underground string is expected instead of {v}')\n",
    "        \n",
    "    @classmethod\n",
    "    def is_luck(cls, v):\n",
    "        unluck_numbers = {4, 14, 74}\n",
    "        if v in unluck_numbers:\n",
    "            raise ValueError(f'The {v} floor is impossible, so is {unluck_numbers}')\n",
    "        return v\n",
    "    \n",
    "    @classmethod\n",
    "    def __get_validators__(cls):\n",
    "        yield cls.validate\n",
    "        yield cls.is_luck"
   ]
  },
  {
   "cell_type": "markdown",
   "id": "414e9712",
   "metadata": {},
   "source": [
    "Определяем модель данных, где типом для переменной **floor_number** является класс **AsianFloor**"
   ]
  },
  {
   "cell_type": "code",
   "execution_count": 51,
   "id": "1ad845d6",
   "metadata": {},
   "outputs": [],
   "source": [
    "from pydantic import BaseModel\n",
    "\n",
    "class Flat(BaseModel):\n",
    "    floor_number: AsianFloor"
   ]
  },
  {
   "cell_type": "markdown",
   "id": "3e0090ac",
   "metadata": {},
   "source": [
    "Число 10 разрешено для нумерации этажей"
   ]
  },
  {
   "cell_type": "code",
   "execution_count": 53,
   "id": "55a5aa60",
   "metadata": {},
   "outputs": [
    {
     "data": {
      "text/plain": [
       "Flat(floor_number=10)"
      ]
     },
     "execution_count": 53,
     "metadata": {},
     "output_type": "execute_result"
    }
   ],
   "source": [
    "Flat(floor_number=10)"
   ]
  },
  {
   "cell_type": "markdown",
   "id": "5f904cff",
   "metadata": {},
   "source": [
    "Число 4 несчастливое и оно запрещено для нумерации этажей"
   ]
  },
  {
   "cell_type": "code",
   "execution_count": 54,
   "id": "fe6d2752",
   "metadata": {},
   "outputs": [
    {
     "ename": "ValidationError",
     "evalue": "1 validation error for Flat\nfloor_number\n  The 4 floor is impossible, so is {74, 4, 14} (type=value_error)",
     "output_type": "error",
     "traceback": [
      "\u001b[0;31m---------------------------------------------------------------------------\u001b[0m",
      "\u001b[0;31mValidationError\u001b[0m                           Traceback (most recent call last)",
      "\u001b[0;32m<ipython-input-54-44fb9cba17cf>\u001b[0m in \u001b[0;36m<module>\u001b[0;34m\u001b[0m\n\u001b[0;32m----> 1\u001b[0;31m \u001b[0mFlat\u001b[0m\u001b[0;34m(\u001b[0m\u001b[0mfloor_number\u001b[0m\u001b[0;34m=\u001b[0m\u001b[0;36m4\u001b[0m\u001b[0;34m)\u001b[0m\u001b[0;34m\u001b[0m\u001b[0;34m\u001b[0m\u001b[0m\n\u001b[0m",
      "\u001b[0;32m/usr/local/lib/python3.9/site-packages/pydantic/main.cpython-39-darwin.so\u001b[0m in \u001b[0;36mpydantic.main.BaseModel.__init__\u001b[0;34m()\u001b[0m\n",
      "\u001b[0;31mValidationError\u001b[0m: 1 validation error for Flat\nfloor_number\n  The 4 floor is impossible, so is {74, 4, 14} (type=value_error)"
     ]
    }
   ],
   "source": [
    "Flat(floor_number=4)"
   ]
  },
  {
   "cell_type": "markdown",
   "id": "ce32cc2f",
   "metadata": {},
   "source": [
    "### Сonstraining  types"
   ]
  },
  {
   "cell_type": "markdown",
   "id": "b73d0289",
   "metadata": {},
   "source": [
    "Допустим нам не нужно создавать свой тип данных, нас устроит обычный тип данных, но в них должно быть кастомное ограничение"
   ]
  },
  {
   "cell_type": "markdown",
   "id": "a06afda2",
   "metadata": {},
   "source": [
    "Значения различных стандартных типов может быть ограничены используя функции con* типа. \n",
    "Например:\n",
    " * constr для str\n",
    " * conint для int\n",
    " * conlist для list\n",
    " * conset для set\n",
    " * etc\n"
   ]
  },
  {
   "cell_type": "markdown",
   "id": "cc03c77e",
   "metadata": {},
   "source": [
    "Ограничим количество этажей от 0 до 200. Для этого используем функцию **conint**, с параметрами ge=0, lt=200"
   ]
  },
  {
   "cell_type": "code",
   "execution_count": 56,
   "id": "e56d5822",
   "metadata": {},
   "outputs": [],
   "source": [
    "from pydantic import BaseModel, conint\n",
    "\n",
    "class Flat(BaseModel):\n",
    "    floor_number: conint(ge=0, lt=200)"
   ]
  },
  {
   "cell_type": "markdown",
   "id": "89a35796",
   "metadata": {},
   "source": [
    "В этом случае может быть 10 этаж"
   ]
  },
  {
   "cell_type": "code",
   "execution_count": 117,
   "id": "b92fffcb",
   "metadata": {},
   "outputs": [
    {
     "data": {
      "text/plain": [
       "Flat(floor_number=10)"
      ]
     },
     "execution_count": 117,
     "metadata": {},
     "output_type": "execute_result"
    }
   ],
   "source": [
    "Flat(floor_number=10)"
   ]
  },
  {
   "cell_type": "markdown",
   "id": "c708c9a9",
   "metadata": {},
   "source": [
    "Но не может быть этажа с номером 201"
   ]
  },
  {
   "cell_type": "code",
   "execution_count": 118,
   "id": "cc40bee2",
   "metadata": {},
   "outputs": [
    {
     "ename": "ValidationError",
     "evalue": "1 validation error for Flat\nfloor_number\n  ensure this value is less than 200 (type=value_error.number.not_lt; limit_value=200)",
     "output_type": "error",
     "traceback": [
      "\u001b[0;31m---------------------------------------------------------------------------\u001b[0m",
      "\u001b[0;31mValidationError\u001b[0m                           Traceback (most recent call last)",
      "\u001b[0;32m<ipython-input-118-701c50d44218>\u001b[0m in \u001b[0;36m<module>\u001b[0;34m\u001b[0m\n\u001b[0;32m----> 1\u001b[0;31m \u001b[0mFlat\u001b[0m\u001b[0;34m(\u001b[0m\u001b[0mfloor_number\u001b[0m\u001b[0;34m=\u001b[0m\u001b[0;36m201\u001b[0m\u001b[0;34m)\u001b[0m\u001b[0;34m\u001b[0m\u001b[0;34m\u001b[0m\u001b[0m\n\u001b[0m",
      "\u001b[0;32m/usr/local/lib/python3.9/site-packages/pydantic/main.cpython-39-darwin.so\u001b[0m in \u001b[0;36mpydantic.main.BaseModel.__init__\u001b[0;34m()\u001b[0m\n",
      "\u001b[0;31mValidationError\u001b[0m: 1 validation error for Flat\nfloor_number\n  ensure this value is less than 200 (type=value_error.number.not_lt; limit_value=200)"
     ]
    }
   ],
   "source": [
    "Flat(floor_number=201)"
   ]
  },
  {
   "cell_type": "markdown",
   "id": "d1db605d",
   "metadata": {},
   "source": [
    "## Написание собственных валидаторов для модели"
   ]
  },
  {
   "cell_type": "code",
   "execution_count": 104,
   "id": "8a41bff5",
   "metadata": {},
   "outputs": [],
   "source": [
    "from uuid import UUID, uuid4\n",
    "from pydantic import BaseModel, validator\n",
    "\n",
    "\n",
    "class GuestSchema(BaseModel):\n",
    "    id: UUID\n",
    "    name: str\n",
    "    \n",
    "    @validator('name')\n",
    "    def no_dark_side_of_the_force(cls, value: str) -> str:\n",
    "        if 'darth' in value.lower() or 'vaider' in value.lower():\n",
    "            raise ValueError('Darth Vaider is not allowed!')\n",
    "        return value"
   ]
  },
  {
   "cell_type": "code",
   "execution_count": 105,
   "id": "238377a1",
   "metadata": {},
   "outputs": [
    {
     "ename": "ValidationError",
     "evalue": "1 validation error for UserSchema\nname\n  Darth Vaider is not allowed! (type=value_error)",
     "output_type": "error",
     "traceback": [
      "\u001b[0;31m---------------------------------------------------------------------------\u001b[0m",
      "\u001b[0;31mValidationError\u001b[0m                           Traceback (most recent call last)",
      "\u001b[0;32m<ipython-input-105-31e99666ca21>\u001b[0m in \u001b[0;36m<module>\u001b[0;34m\u001b[0m\n\u001b[0;32m----> 1\u001b[0;31m \u001b[0mUserSchema\u001b[0m\u001b[0;34m(\u001b[0m\u001b[0;34m**\u001b[0m\u001b[0;34m{\u001b[0m\u001b[0;34m'id'\u001b[0m\u001b[0;34m:\u001b[0m \u001b[0muuid4\u001b[0m\u001b[0;34m(\u001b[0m\u001b[0;34m)\u001b[0m\u001b[0;34m,\u001b[0m \u001b[0;34m'name'\u001b[0m\u001b[0;34m:\u001b[0m \u001b[0;34m'Darth Vaider'\u001b[0m\u001b[0;34m}\u001b[0m\u001b[0;34m)\u001b[0m\u001b[0;34m\u001b[0m\u001b[0;34m\u001b[0m\u001b[0m\n\u001b[0m",
      "\u001b[0;32m/usr/local/lib/python3.9/site-packages/pydantic/main.cpython-39-darwin.so\u001b[0m in \u001b[0;36mpydantic.main.BaseModel.__init__\u001b[0;34m()\u001b[0m\n",
      "\u001b[0;31mValidationError\u001b[0m: 1 validation error for UserSchema\nname\n  Darth Vaider is not allowed! (type=value_error)"
     ]
    }
   ],
   "source": [
    "UserSchema(**{'id': uuid4(), 'name': 'Darth Vaider'})"
   ]
  },
  {
   "cell_type": "code",
   "execution_count": 106,
   "id": "d4113fbe",
   "metadata": {},
   "outputs": [
    {
     "data": {
      "text/plain": [
       "UserSchema(id=UUID('dc3424ef-fa6e-4ef5-a925-0c6ca4dd0492'), name='Princess Leia')"
      ]
     },
     "execution_count": 106,
     "metadata": {},
     "output_type": "execute_result"
    }
   ],
   "source": [
    "UserSchema(**{'id': uuid4(), 'name': 'Princess Leia'})"
   ]
  },
  {
   "cell_type": "code",
   "execution_count": 44,
   "id": "0c9f94e8",
   "metadata": {},
   "outputs": [],
   "source": [
    "from uuid import UUID, uuid4\n",
    "from pydantic import BaseModel, validator\n",
    "\n",
    "\n",
    "class GuestSchema(BaseModel):\n",
    "    id: UUID\n",
    "    name: str\n",
    "    password: str\n",
    "    \n",
    "    @validator('password')\n",
    "    def validate_password(cls, value: str) -> str:\n",
    "        if value != 'May the force be with you':\n",
    "            raise ValueError('The password is incorrect')\n",
    "        return value"
   ]
  },
  {
   "cell_type": "code",
   "execution_count": 45,
   "id": "3a1c2d85",
   "metadata": {},
   "outputs": [
    {
     "data": {
      "text/plain": [
       "GuestSchema(id=UUID('8dcc066f-aeb2-42a3-b8d3-fec3497c1349'), name='Princess Leia', password='May the force be with you')"
      ]
     },
     "execution_count": 45,
     "metadata": {},
     "output_type": "execute_result"
    }
   ],
   "source": [
    "GuestSchema(id=uuid4(), name='Princess Leia', password='May the force be with you')"
   ]
  },
  {
   "cell_type": "code",
   "execution_count": 46,
   "id": "a5de6a38",
   "metadata": {},
   "outputs": [
    {
     "ename": "ValidationError",
     "evalue": "1 validation error for GuestSchema\npassword\n  The password is incorrect (type=value_error)",
     "output_type": "error",
     "traceback": [
      "\u001b[0;31m---------------------------------------------------------------------------\u001b[0m",
      "\u001b[0;31mValidationError\u001b[0m                           Traceback (most recent call last)",
      "\u001b[0;32m<ipython-input-46-c36c3f650f3c>\u001b[0m in \u001b[0;36m<module>\u001b[0;34m\u001b[0m\n\u001b[0;32m----> 1\u001b[0;31m \u001b[0mGuestSchema\u001b[0m\u001b[0;34m(\u001b[0m\u001b[0mid\u001b[0m\u001b[0;34m=\u001b[0m\u001b[0muuid4\u001b[0m\u001b[0;34m(\u001b[0m\u001b[0;34m)\u001b[0m\u001b[0;34m,\u001b[0m \u001b[0mname\u001b[0m\u001b[0;34m=\u001b[0m\u001b[0;34m'Darth Vaider'\u001b[0m\u001b[0;34m,\u001b[0m \u001b[0mpassword\u001b[0m\u001b[0;34m=\u001b[0m\u001b[0;34m'sniffing sounds'\u001b[0m\u001b[0;34m)\u001b[0m\u001b[0;34m\u001b[0m\u001b[0;34m\u001b[0m\u001b[0m\n\u001b[0m",
      "\u001b[0;32m/usr/local/lib/python3.9/site-packages/pydantic/main.cpython-39-darwin.so\u001b[0m in \u001b[0;36mpydantic.main.BaseModel.__init__\u001b[0;34m()\u001b[0m\n",
      "\u001b[0;31mValidationError\u001b[0m: 1 validation error for GuestSchema\npassword\n  The password is incorrect (type=value_error)"
     ]
    }
   ],
   "source": [
    "GuestSchema(id=uuid4(), name='Darth Vaider', password='sniffing sounds')"
   ]
  },
  {
   "cell_type": "markdown",
   "id": "7aa0847c",
   "metadata": {},
   "source": [
    "### Валидация нескольких полей вместе"
   ]
  },
  {
   "cell_type": "code",
   "execution_count": 107,
   "id": "d4fafdc1",
   "metadata": {},
   "outputs": [],
   "source": [
    "from uuid import UUID, uuid4\n",
    "from pydantic import BaseModel, validator\n",
    "\n",
    "\n",
    "class GuestSchema(BaseModel):\n",
    "    id: UUID\n",
    "    name: str\n",
    "    password: str\n",
    "    \n",
    "    @validator('password', pre=True, always=True)\n",
    "    def validate_password(cls, value, values) -> str:\n",
    "        if value != 'May the force be with you':\n",
    "            raise ValueError('The password is incorrect')\n",
    "        if 'darth' in values.get('name').lower() or 'vaider' in values.get('name').lower():\n",
    "            raise ValueError('The password is incorrect')\n",
    "        return value"
   ]
  },
  {
   "cell_type": "code",
   "execution_count": 108,
   "id": "5d663f26",
   "metadata": {},
   "outputs": [
    {
     "data": {
      "text/plain": [
       "GuestSchema(id=UUID('8072ba0f-473a-447a-a780-e9276c65a9fa'), name='Princess Leia', password='May the force be with you')"
      ]
     },
     "execution_count": 108,
     "metadata": {},
     "output_type": "execute_result"
    }
   ],
   "source": [
    "GuestSchema(id=uuid4(), name='Princess Leia', password='May the force be with you')"
   ]
  },
  {
   "cell_type": "code",
   "execution_count": 109,
   "id": "0f8dc16c",
   "metadata": {},
   "outputs": [
    {
     "ename": "ValidationError",
     "evalue": "1 validation error for GuestSchema\npassword\n  The password is incorrect (type=value_error)",
     "output_type": "error",
     "traceback": [
      "\u001b[0;31m---------------------------------------------------------------------------\u001b[0m",
      "\u001b[0;31mValidationError\u001b[0m                           Traceback (most recent call last)",
      "\u001b[0;32m<ipython-input-109-b5cc37053143>\u001b[0m in \u001b[0;36m<module>\u001b[0;34m\u001b[0m\n\u001b[0;32m----> 1\u001b[0;31m \u001b[0mGuestSchema\u001b[0m\u001b[0;34m(\u001b[0m\u001b[0mid\u001b[0m\u001b[0;34m=\u001b[0m\u001b[0muuid4\u001b[0m\u001b[0;34m(\u001b[0m\u001b[0;34m)\u001b[0m\u001b[0;34m,\u001b[0m \u001b[0mname\u001b[0m\u001b[0;34m=\u001b[0m\u001b[0;34m'Darth Vaider'\u001b[0m\u001b[0;34m,\u001b[0m \u001b[0mpassword\u001b[0m\u001b[0;34m=\u001b[0m\u001b[0;34m'May the force be with you'\u001b[0m\u001b[0;34m)\u001b[0m\u001b[0;34m\u001b[0m\u001b[0;34m\u001b[0m\u001b[0m\n\u001b[0m",
      "\u001b[0;32m/usr/local/lib/python3.9/site-packages/pydantic/main.cpython-39-darwin.so\u001b[0m in \u001b[0;36mpydantic.main.BaseModel.__init__\u001b[0;34m()\u001b[0m\n",
      "\u001b[0;31mValidationError\u001b[0m: 1 validation error for GuestSchema\npassword\n  The password is incorrect (type=value_error)"
     ]
    }
   ],
   "source": [
    "GuestSchema(id=uuid4(), name='Darth Vaider', password='May the force be with you')"
   ]
  },
  {
   "cell_type": "markdown",
   "id": "a9acab24",
   "metadata": {},
   "source": [
    "Нижестоящие переменные не доступны при валидации текущей переменной"
   ]
  },
  {
   "cell_type": "code",
   "execution_count": 8,
   "id": "113ecaf5",
   "metadata": {},
   "outputs": [],
   "source": [
    "from uuid import UUID, uuid4\n",
    "from pydantic import BaseModel, validator, EmailStr\n",
    "\n",
    "\n",
    "class GuestSchema(BaseModel):\n",
    "    id: UUID\n",
    "    name: str\n",
    "    password: str\n",
    "    place: str\n",
    "    \n",
    "    @validator('password', pre=True, always=True)\n",
    "    def validate_password(cls, value, values) -> str:\n",
    "        print(f'{values = }')\n",
    "        if value != 'May the force be with you':\n",
    "            raise ValueError('The password is incorrect')\n",
    "        if 'darth' in values.get('name').lower() or 'vaider' in values.get('name').lower():\n",
    "            raise ValueError('The password is incorrect')\n",
    "        return value"
   ]
  },
  {
   "cell_type": "code",
   "execution_count": 121,
   "id": "565700e1",
   "metadata": {},
   "outputs": [
    {
     "name": "stdout",
     "output_type": "stream",
     "text": [
      "values = {'id': UUID('5bf3e5bb-1636-4997-a097-135c37b0c3c5'), 'name': 'Princess Leia'}\n"
     ]
    },
    {
     "data": {
      "text/plain": [
       "GuestSchema(id=UUID('5bf3e5bb-1636-4997-a097-135c37b0c3c5'), name='Princess Leia', password='May the force be with you', place='1a')"
      ]
     },
     "execution_count": 121,
     "metadata": {},
     "output_type": "execute_result"
    }
   ],
   "source": [
    "GuestSchema(id=uuid4(), name='Princess Leia', password='May the force be with you', place='1a') "
   ]
  },
  {
   "cell_type": "markdown",
   "id": "36dcfffe",
   "metadata": {},
   "source": [
    "#### ValidationError"
   ]
  },
  {
   "cell_type": "markdown",
   "id": "da86bc5e",
   "metadata": {},
   "source": [
    "Pydantic поднимает ValidationError всякий раз, когда обнаруживает ошибку в проверяемых данных"
   ]
  },
  {
   "cell_type": "code",
   "execution_count": 82,
   "id": "400dbd1c",
   "metadata": {},
   "outputs": [
    {
     "ename": "ValidationError",
     "evalue": "1 validation error for User\nname\n  str type expected (type=type_error.str)",
     "output_type": "error",
     "traceback": [
      "\u001b[0;31m---------------------------------------------------------------------------\u001b[0m",
      "\u001b[0;31mValidationError\u001b[0m                           Traceback (most recent call last)",
      "\u001b[0;32m<ipython-input-82-0082fd2e2950>\u001b[0m in \u001b[0;36m<module>\u001b[0;34m\u001b[0m\n\u001b[1;32m      5\u001b[0m \u001b[0;34m\u001b[0m\u001b[0m\n\u001b[1;32m      6\u001b[0m \u001b[0;34m\u001b[0m\u001b[0m\n\u001b[0;32m----> 7\u001b[0;31m \u001b[0mUser\u001b[0m\u001b[0;34m(\u001b[0m\u001b[0mname\u001b[0m\u001b[0;34m=\u001b[0m\u001b[0;34m[\u001b[0m\u001b[0;34m]\u001b[0m\u001b[0;34m)\u001b[0m\u001b[0;34m\u001b[0m\u001b[0;34m\u001b[0m\u001b[0m\n\u001b[0m",
      "\u001b[0;32m/usr/local/lib/python3.9/site-packages/pydantic/main.cpython-39-darwin.so\u001b[0m in \u001b[0;36mpydantic.main.BaseModel.__init__\u001b[0;34m()\u001b[0m\n",
      "\u001b[0;31mValidationError\u001b[0m: 1 validation error for User\nname\n  str type expected (type=type_error.str)"
     ]
    }
   ],
   "source": [
    "from pydantic import BaseModel\n",
    "\n",
    "class User(BaseModel):\n",
    "    name: str\n",
    "        \n",
    "\n",
    "User(name=[])"
   ]
  },
  {
   "cell_type": "markdown",
   "id": "29b6ffd7",
   "metadata": {},
   "source": [
    "Валидаторы реализованные программистом, не должны поднимать ValidationError сами, вместо этого нужно использовать \n",
    "* ValueError\n",
    "* TypeError\n",
    "* AssertionError \n",
    "* или подклассы ValueError или TypeError, \n",
    "\n",
    "так как эти исключения pydantic словит и будет использовать для ValidationError.\n",
    "\n",
    "В конечном счете одно исключение будет вызвано и ValidationError будет содержать информацию обо всех ошибках и описание как они произошли."
   ]
  },
  {
   "cell_type": "markdown",
   "id": "8623e186",
   "metadata": {},
   "source": [
    "Рассмотрим как можно получить доступ к ошибкам."
   ]
  },
  {
   "cell_type": "markdown",
   "id": "3a322d60",
   "metadata": {},
   "source": [
    "e.json() - возвращает ошибки в виде json (Удобно в web-приложениях, pydantic используется в Fast-API)"
   ]
  },
  {
   "cell_type": "code",
   "execution_count": 88,
   "id": "e57ed47a",
   "metadata": {},
   "outputs": [
    {
     "name": "stdout",
     "output_type": "stream",
     "text": [
      "[\n",
      "  {\n",
      "    \"loc\": [\n",
      "      \"name\"\n",
      "    ],\n",
      "    \"msg\": \"str type expected\",\n",
      "    \"type\": \"type_error.str\"\n",
      "  }\n",
      "]\n"
     ]
    }
   ],
   "source": [
    "from pydantic import BaseModel, ValidationError\n",
    "\n",
    "class User(BaseModel):\n",
    "    name: str\n",
    "        \n",
    "\n",
    "try:\n",
    "    User(name=[])\n",
    "except ValidationError as e:\n",
    "    print(e.json())"
   ]
  },
  {
   "cell_type": "markdown",
   "id": "51b08d2a",
   "metadata": {},
   "source": [
    "e.errors() - возвращает список найденных ошибок во входных данных"
   ]
  },
  {
   "cell_type": "code",
   "execution_count": 89,
   "id": "cef6860b",
   "metadata": {},
   "outputs": [
    {
     "name": "stdout",
     "output_type": "stream",
     "text": [
      "[{'loc': ('name',), 'msg': 'str type expected', 'type': 'type_error.str'}]\n"
     ]
    }
   ],
   "source": [
    "try:\n",
    "    User(name=[])\n",
    "except ValidationError as e:\n",
    "    print(e.errors())"
   ]
  },
  {
   "cell_type": "markdown",
   "id": "081d430e",
   "metadata": {},
   "source": [
    "str(e) - возвращает ошибки в читаемом формате"
   ]
  },
  {
   "cell_type": "code",
   "execution_count": 90,
   "id": "c144d8ce",
   "metadata": {
    "scrolled": true
   },
   "outputs": [
    {
     "name": "stdout",
     "output_type": "stream",
     "text": [
      "1 validation error for User\n",
      "name\n",
      "  str type expected (type=type_error.str)\n"
     ]
    }
   ],
   "source": [
    "try:\n",
    "    User(name=[])\n",
    "except ValidationError as e:\n",
    "    print(e)    # print(str(e))"
   ]
  },
  {
   "cell_type": "markdown",
   "id": "bfef616f",
   "metadata": {},
   "source": [
    "parse_obj - очень похож на \\_\\_init\\_\\_ модели, только он на вход принимает dict, а не именованные аргументы. Если переданный объект не является словарем, будет поднято исключение ValidationError. "
   ]
  },
  {
   "cell_type": "code",
   "execution_count": 44,
   "id": "e032ebc9",
   "metadata": {},
   "outputs": [
    {
     "data": {
      "text/plain": [
       "User(name='John Doe', email='john.doe@example.com', age=30)"
      ]
     },
     "execution_count": 44,
     "metadata": {},
     "output_type": "execute_result"
    }
   ],
   "source": [
    "user = {\n",
    "    'name': 'John Doe',\n",
    "    'email': 'john.doe@example.com',\n",
    "    'age': 30,\n",
    "}\n",
    "User.parse_obj(user)"
   ]
  },
  {
   "cell_type": "markdown",
   "id": "efcb5c94",
   "metadata": {},
   "source": [
    "parse_raw -  принимает строку или байты и парсит это как json"
   ]
  },
  {
   "cell_type": "code",
   "execution_count": 45,
   "id": "1178c1d1",
   "metadata": {},
   "outputs": [
    {
     "data": {
      "text/plain": [
       "'{\"name\": \"John Doe\", \"email\": \"john.doe@example.com\", \"age\": 30}'"
      ]
     },
     "execution_count": 45,
     "metadata": {},
     "output_type": "execute_result"
    }
   ],
   "source": [
    "import json\n",
    "user_json = json.dumps(user)\n",
    "user_json"
   ]
  },
  {
   "cell_type": "code",
   "execution_count": 46,
   "id": "8d897091",
   "metadata": {},
   "outputs": [
    {
     "data": {
      "text/plain": [
       "User(name='John Doe', email='john.doe@example.com', age=30)"
      ]
     },
     "execution_count": 46,
     "metadata": {},
     "output_type": "execute_result"
    }
   ],
   "source": [
    "User.parse_raw(user_json)"
   ]
  },
  {
   "cell_type": "markdown",
   "id": "02da6128",
   "metadata": {},
   "source": [
    "parse_file - принимает путь файла, читает его и парсит его."
   ]
  },
  {
   "cell_type": "markdown",
   "id": "00fa440e",
   "metadata": {},
   "source": [
    "#### Export data"
   ]
  },
  {
   "cell_type": "code",
   "execution_count": 48,
   "id": "b7c5b8c2",
   "metadata": {},
   "outputs": [],
   "source": [
    "leia = GuestSchema(id=uuid4(), name='Princess Leia', password='May the force be with you')"
   ]
  },
  {
   "cell_type": "code",
   "execution_count": 49,
   "id": "22f2abaa",
   "metadata": {},
   "outputs": [
    {
     "data": {
      "text/plain": [
       "{'id': UUID('405f70db-591f-48c3-8461-e41cc8f3fc27'),\n",
       " 'name': 'Princess Leia',\n",
       " 'password': 'May the force be with you'}"
      ]
     },
     "execution_count": 49,
     "metadata": {},
     "output_type": "execute_result"
    }
   ],
   "source": [
    "leia.dict()"
   ]
  },
  {
   "cell_type": "code",
   "execution_count": 50,
   "id": "8aaaf9b9",
   "metadata": {},
   "outputs": [
    {
     "data": {
      "text/plain": [
       "'{\"id\": \"405f70db-591f-48c3-8461-e41cc8f3fc27\", \"name\": \"Princess Leia\", \"password\": \"May the force be with you\"}'"
      ]
     },
     "execution_count": 50,
     "metadata": {},
     "output_type": "execute_result"
    }
   ],
   "source": [
    "leia.json()"
   ]
  },
  {
   "cell_type": "markdown",
   "id": "b9d6e71c",
   "metadata": {},
   "source": [
    "Исключение некоторых полей из вывода данных:"
   ]
  },
  {
   "cell_type": "code",
   "execution_count": 51,
   "id": "e61e8086",
   "metadata": {},
   "outputs": [
    {
     "data": {
      "text/plain": [
       "'{\"id\": \"405f70db-591f-48c3-8461-e41cc8f3fc27\", \"name\": \"Princess Leia\"}'"
      ]
     },
     "execution_count": 51,
     "metadata": {},
     "output_type": "execute_result"
    }
   ],
   "source": [
    "leia.json(exclude={'password'})"
   ]
  },
  {
   "cell_type": "code",
   "execution_count": 52,
   "id": "1665e1c1",
   "metadata": {},
   "outputs": [
    {
     "data": {
      "text/plain": [
       "{'id': UUID('405f70db-591f-48c3-8461-e41cc8f3fc27'), 'name': 'Princess Leia'}"
      ]
     },
     "execution_count": 52,
     "metadata": {},
     "output_type": "execute_result"
    }
   ],
   "source": [
    "leia.dict(exclude={'password'})"
   ]
  },
  {
   "cell_type": "markdown",
   "id": "210093fe",
   "metadata": {},
   "source": [
    "#### Allow extra data\n",
    "\n",
    "Иногда из различных сервисов поступают избыточные данные. В таком случае можно простo использовать параметр extra='allow'\n"
   ]
  },
  {
   "cell_type": "code",
   "execution_count": 73,
   "id": "bf122b53",
   "metadata": {},
   "outputs": [],
   "source": [
    "from pydantic import BaseModel\n",
    "from uuid import UUID, uuid4\n",
    "\n",
    "\n",
    "class User(BaseModel):\n",
    "    id: UUID\n",
    "    username: str\n",
    "        \n",
    "    class Config:\n",
    "        extra='allow'"
   ]
  },
  {
   "cell_type": "code",
   "execution_count": 74,
   "id": "517d2d26",
   "metadata": {},
   "outputs": [
    {
     "data": {
      "text/plain": [
       "User(id=UUID('aa8c98ed-f479-4a36-9afa-0319bba06b46'), username='admin', age=30, location='Moscow')"
      ]
     },
     "execution_count": 74,
     "metadata": {},
     "output_type": "execute_result"
    }
   ],
   "source": [
    "User(**{'username': 'admin', 'id': uuid4(), 'location': 'Moscow'})"
   ]
  },
  {
   "cell_type": "markdown",
   "id": "ef623ef5",
   "metadata": {},
   "source": [
    "Чтобы не добавлять избыточные данные, нужно использовать параметер extra='ignore':"
   ]
  },
  {
   "cell_type": "code",
   "execution_count": 77,
   "id": "30cf82a6",
   "metadata": {},
   "outputs": [],
   "source": [
    "from pydantic import BaseModel\n",
    "from uuid import UUID, uuid4\n",
    "\n",
    "\n",
    "class User(BaseModel):\n",
    "    id: UUID\n",
    "    username: str\n",
    "        \n",
    "    class Config:\n",
    "        extra='ignore'"
   ]
  },
  {
   "cell_type": "code",
   "execution_count": 78,
   "id": "9c0a1fd2",
   "metadata": {},
   "outputs": [
    {
     "data": {
      "text/plain": [
       "User(id=UUID('c0d189a1-1815-445c-98ce-84f711a34fb1'), username='admin')"
      ]
     },
     "execution_count": 78,
     "metadata": {},
     "output_type": "execute_result"
    }
   ],
   "source": [
    "User(**{'username': 'admin', 'id': uuid4(), 'age': 30, 'location': 'Moscow'})"
   ]
  },
  {
   "cell_type": "markdown",
   "id": "090f685f",
   "metadata": {},
   "source": [
    "#### Aliases\n",
    "alias - указывает pydantic по какому ключу искать данные. Может быть очень удобно, когда данные поступают из других сервисов или баз данных. Например в сервисе используется **CamelCase**, но в обработанных данных мы хотим использовать **snake_case**"
   ]
  },
  {
   "cell_type": "code",
   "execution_count": 19,
   "id": "e7c27585",
   "metadata": {},
   "outputs": [],
   "source": [
    "import datetime\n",
    "\n",
    "from typing import Union\n",
    "from pydantic import BaseModel, Field\n",
    "\n",
    "\n",
    "\n",
    "class PostSchema(BaseModel):\n",
    "    user: str\n",
    "    text: str\n",
    "    last_modified_data: datetime.datetime = Field(alias='LastModifiedData')"
   ]
  },
  {
   "cell_type": "code",
   "execution_count": 21,
   "id": "8de73488",
   "metadata": {},
   "outputs": [
    {
     "data": {
      "text/plain": [
       "PostSchema(user='admin', text='Hello word!', last_modified_data=datetime.datetime(2021, 5, 4, 0, 0))"
      ]
     },
     "execution_count": 21,
     "metadata": {},
     "output_type": "execute_result"
    }
   ],
   "source": [
    "post = {\n",
    "    'user': 'admin',\n",
    "    'text': 'Hello word!',\n",
    "    'LastModifiedData': datetime.datetime(year=2021, month=5, day=4)\n",
    "}\n",
    "\n",
    "PostSchema(**post)"
   ]
  },
  {
   "cell_type": "markdown",
   "id": "e01cbea5",
   "metadata": {},
   "source": [
    "### Inheritance\n"
   ]
  },
  {
   "cell_type": "markdown",
   "id": "6825e16f",
   "metadata": {},
   "source": [
    "Наследование работает так же как в python"
   ]
  },
  {
   "cell_type": "code",
   "execution_count": 7,
   "id": "18e834b9",
   "metadata": {},
   "outputs": [],
   "source": [
    "from typing import Optional\n",
    "from pydantic import BaseModel, EmailStr\n",
    "\n",
    "\n",
    "class Person(BaseModel):\n",
    "    email: EmailStr\n",
    "    name: Optional[str]\n",
    "        \n",
    "\n",
    "class Customer(Person):\n",
    "    total_spending: Optional[int] = 0"
   ]
  },
  {
   "cell_type": "code",
   "execution_count": 8,
   "id": "56993872",
   "metadata": {},
   "outputs": [
    {
     "data": {
      "text/plain": [
       "Customer(email='john.doe@example.com', name=None, total_spending=200)"
      ]
     },
     "execution_count": 8,
     "metadata": {},
     "output_type": "execute_result"
    }
   ],
   "source": [
    "Customer(email='john.doe@example.com', total_spending=200)"
   ]
  },
  {
   "cell_type": "code",
   "execution_count": 9,
   "id": "cec1c27b",
   "metadata": {},
   "outputs": [
    {
     "ename": "TypeError",
     "evalue": "__init__() takes exactly 1 positional argument (3 given)",
     "output_type": "error",
     "traceback": [
      "\u001b[0;31m---------------------------------------------------------------------------\u001b[0m",
      "\u001b[0;31mTypeError\u001b[0m                                 Traceback (most recent call last)",
      "\u001b[0;32m<ipython-input-9-fefc56972cd9>\u001b[0m in \u001b[0;36m<module>\u001b[0;34m\u001b[0m\n\u001b[0;32m----> 1\u001b[0;31m \u001b[0mCustomer\u001b[0m\u001b[0;34m(\u001b[0m\u001b[0;34m'john.doe@example.com'\u001b[0m\u001b[0;34m,\u001b[0m \u001b[0;36m200\u001b[0m\u001b[0;34m)\u001b[0m\u001b[0;34m\u001b[0m\u001b[0;34m\u001b[0m\u001b[0m\n\u001b[0m",
      "\u001b[0;32m/usr/local/lib/python3.9/site-packages/pydantic/main.cpython-39-darwin.so\u001b[0m in \u001b[0;36mpydantic.main.BaseModel.__init__\u001b[0;34m()\u001b[0m\n",
      "\u001b[0;31mTypeError\u001b[0m: __init__() takes exactly 1 positional argument (3 given)"
     ]
    }
   ],
   "source": [
    "Customer('john.doe@example.com', 200)"
   ]
  },
  {
   "cell_type": "markdown",
   "id": "856c08b3",
   "metadata": {},
   "source": [
    "На первый взгляд не совсем понятно, почему произошла ошибка. С помощью \\_\\_fields\\_\\_ посмотрим какие аргументы ожидаются"
   ]
  },
  {
   "cell_type": "code",
   "execution_count": 18,
   "id": "7bc196d1",
   "metadata": {},
   "outputs": [
    {
     "data": {
      "text/plain": [
       "{'email': ModelField(name='email', type=EmailStr, required=True),\n",
       " 'name': ModelField(name='name', type=Optional[str], required=False, default=None),\n",
       " 'total_spending': ModelField(name='total_spending', type=Optional[int], required=False, default=0)}"
      ]
     },
     "execution_count": 18,
     "metadata": {},
     "output_type": "execute_result"
    }
   ],
   "source": [
    "Customer.__fields__"
   ]
  },
  {
   "cell_type": "markdown",
   "id": "2c769dbf",
   "metadata": {},
   "source": [
    "В данном случае есть несколько правильных способов передавать значения аргументов:\n"
   ]
  },
  {
   "cell_type": "markdown",
   "id": "39123b83",
   "metadata": {},
   "source": [
    "1. parse_raw"
   ]
  },
  {
   "cell_type": "code",
   "execution_count": 21,
   "id": "4d97be50",
   "metadata": {},
   "outputs": [
    {
     "data": {
      "text/plain": [
       "Customer(email='foo@bar.com', name=None, total_spending=200)"
      ]
     },
     "execution_count": 21,
     "metadata": {},
     "output_type": "execute_result"
    }
   ],
   "source": [
    "Customer.parse_raw('{\"email\":\"foo@bar.com\", \"total_spending\":200}')"
   ]
  },
  {
   "cell_type": "markdown",
   "id": "6555679f",
   "metadata": {},
   "source": [
    "2. передача данных по именованным аргументам"
   ]
  },
  {
   "cell_type": "code",
   "execution_count": 22,
   "id": "db28ba42",
   "metadata": {},
   "outputs": [
    {
     "data": {
      "text/plain": [
       "Customer(email='foo@bar.com', name=None, total_spending=200)"
      ]
     },
     "execution_count": 22,
     "metadata": {},
     "output_type": "execute_result"
    }
   ],
   "source": [
    "Customer(email='foo@bar.com', total_spending=200)"
   ]
  },
  {
   "cell_type": "markdown",
   "id": "6b38e3bf",
   "metadata": {},
   "source": [
    "### Использование pydantic для чтение переменных окружения\n",
    "Для этого нужно унаследовать класс данных от BaseSettings"
   ]
  },
  {
   "cell_type": "markdown",
   "id": "bc97dae2",
   "metadata": {},
   "source": [
    "Pydantic & Settings "
   ]
  },
  {
   "cell_type": "code",
   "execution_count": 10,
   "id": "79879ce1",
   "metadata": {},
   "outputs": [
    {
     "name": "stdout",
     "output_type": "stream",
     "text": [
      "env: APP_HOST=127.0.0.1\n"
     ]
    }
   ],
   "source": [
    "%set_env APP_HOST=127.0.0.1"
   ]
  },
  {
   "cell_type": "code",
   "execution_count": 11,
   "id": "0fc08246",
   "metadata": {},
   "outputs": [
    {
     "name": "stdout",
     "output_type": "stream",
     "text": [
      "env: APP_PORT=8000\n"
     ]
    }
   ],
   "source": [
    "%set_env APP_PORT=8000"
   ]
  },
  {
   "cell_type": "code",
   "execution_count": 17,
   "id": "e289f7e1",
   "metadata": {},
   "outputs": [
    {
     "name": "stdout",
     "output_type": "stream",
     "text": [
      "APP_HOST=127.0.0.1\r\n",
      "APP_PORT=8000\r\n",
      "ZSH_EXECUTION_STRING='set | grep APP_'\r\n"
     ]
    }
   ],
   "source": [
    "!set | grep APP_"
   ]
  },
  {
   "cell_type": "code",
   "execution_count": 18,
   "id": "aaccf795",
   "metadata": {},
   "outputs": [],
   "source": [
    "from pydantic import BaseSettings\n",
    "\n",
    "\n",
    "class AppSettings(BaseSettings):\n",
    "    host: str\n",
    "    port: int\n",
    "        \n",
    "    class Config:\n",
    "        env_prefix = 'APP_'"
   ]
  },
  {
   "cell_type": "code",
   "execution_count": 19,
   "id": "2bbf5e3e",
   "metadata": {},
   "outputs": [
    {
     "data": {
      "text/plain": [
       "AppSettings(host='127.0.0.1', port=8000)"
      ]
     },
     "execution_count": 19,
     "metadata": {},
     "output_type": "execute_result"
    }
   ],
   "source": [
    "app_settings = AppSettings()\n",
    "app_settings"
   ]
  },
  {
   "cell_type": "code",
   "execution_count": 20,
   "id": "d29396e9",
   "metadata": {},
   "outputs": [
    {
     "data": {
      "text/plain": [
       "'127.0.0.1'"
      ]
     },
     "execution_count": 20,
     "metadata": {},
     "output_type": "execute_result"
    }
   ],
   "source": [
    "app_settings.host"
   ]
  },
  {
   "cell_type": "markdown",
   "id": "fe58cfab",
   "metadata": {},
   "source": [
    "***"
   ]
  },
  {
   "cell_type": "markdown",
   "id": "593cdf35",
   "metadata": {},
   "source": [
    "# Итог\n",
    "\n",
    "\n",
    "    ✅ Pydantic - удобный и полезный инструмент для валидации данных. \n",
    "    ✅ Схема задается в виде класса, а не в виде словарей, что упрощает описание схемы данных\n",
    "    ✅ Нет необходимости изучать дополнительный язык типов данных. Используется стандартные типы\n",
    "    ✅ Также можно использовать типы данных из модуля typing и реализовывать собственные типы данных\n",
    "    ✅ Можно возращать валидированный экземпляр класса\n",
    "    ✅ Если нужно вернуть экземпляр класса, то нет необходимости реализовать дополнительный класс\n",
    "    ✅ Если в существующем проекте используются python dataclass, то очень легко добавить валидацию данных с помощью pydantic\n",
    "    ✅ Легко выполнять сериализацию и десериализацию данных\n",
    "    ✅ Ошибки при валидации данных подробно описаны и их легко вывести в json-формате, что позволяет выдавать ошибки, как response в web-приложениях"
   ]
  },
  {
   "cell_type": "markdown",
   "id": "0d2f4481",
   "metadata": {},
   "source": [
    "***"
   ]
  },
  {
   "cell_type": "markdown",
   "id": "5157dfd9",
   "metadata": {},
   "source": [
    "Документация пакета pydantic https://pydantic-docs.helpmanual.io/"
   ]
  },
  {
   "cell_type": "markdown",
   "id": "19ab639c",
   "metadata": {},
   "source": [
    "***"
   ]
  },
  {
   "cell_type": "markdown",
   "id": "abbbaa5a",
   "metadata": {},
   "source": [
    "# Спасибо за внимание"
   ]
  },
  {
   "cell_type": "markdown",
   "id": "9634891d",
   "metadata": {},
   "source": [
    "***"
   ]
  },
  {
   "cell_type": "markdown",
   "id": "d4185775",
   "metadata": {},
   "source": [
    "Вывод\n",
    "Что узнали? Что поняли?\n",
    "Проблемы при использовании и как их решить?\n",
    "Вопросы / ответы?\n",
    "что в резкльтате? Почему его нужно использовать? Я могу без него (Плюсы)\n",
    "\n",
    "Презентации на тех темы 5 минут начало/конец\n"
   ]
  }
 ],
 "metadata": {
  "kernelspec": {
   "display_name": "Python 3",
   "language": "python",
   "name": "python3"
  },
  "language_info": {
   "codemirror_mode": {
    "name": "ipython",
    "version": 3
   },
   "file_extension": ".py",
   "mimetype": "text/x-python",
   "name": "python",
   "nbconvert_exporter": "python",
   "pygments_lexer": "ipython3",
   "version": "3.9.5"
  }
 },
 "nbformat": 4,
 "nbformat_minor": 5
}
