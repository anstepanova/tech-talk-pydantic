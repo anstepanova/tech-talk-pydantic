{
 "cells": [
  {
   "cell_type": "markdown",
   "id": "1fb6fec2",
   "metadata": {},
   "source": [
    "# Pydantic"
   ]
  },
  {
   "cell_type": "markdown",
   "id": "77d369f1",
   "metadata": {},
   "source": [
    "## Какие проблемы решает?\n",
    "\n",
    "Валидация данных необходима при их получении из стороних ресурсов. \n",
    "Например есть некоторый сервис. Он получает данные о пользователе из разных источников данных. У пользователя должны быть следующие данные:"
   ]
  },
  {
   "cell_type": "code",
   "execution_count": null,
   "id": "c12d849d",
   "metadata": {},
   "outputs": [],
   "source": [
    "from dataclass import dataclass\n",
    "\n",
    "\n",
    "@dataclass\n",
    "class User:\n",
    "    uuid: str\n",
    "    name: str"
   ]
  },
  {
   "cell_type": "code",
   "execution_count": null,
   "id": "d0960edd",
   "metadata": {},
   "outputs": [],
   "source": []
  },
  {
   "cell_type": "markdown",
   "id": "5f0119a2",
   "metadata": {},
   "source": [
    "## Библиотеки для валидации данных"
   ]
  },
  {
   "cell_type": "markdown",
   "id": "d75e58f0",
   "metadata": {},
   "source": [
    "Самые популярные библиотеки валидирующие данные для языка Python:\n",
    "* Cerberus, Voluptuous, Schema (работа с этими библиотеками похожа)\n",
    "* Marshmallow\n",
    "* Pydantic"
   ]
  },
  {
   "cell_type": "markdown",
   "id": "8c43b426",
   "metadata": {},
   "source": [
    "### Сerberus"
   ]
  },
  {
   "cell_type": "code",
   "execution_count": null,
   "id": "aaafe65d",
   "metadata": {},
   "outputs": [],
   "source": [
    "!pip install Cerberus"
   ]
  },
  {
   "cell_type": "markdown",
   "id": "cb292b5f",
   "metadata": {},
   "source": [
    "Предоставляет функционал для валидализации данных"
   ]
  },
  {
   "cell_type": "markdown",
   "id": "df04e12d",
   "metadata": {},
   "source": [
    "Необходимо отпределить схему валидализации и передать ее в класс Validator. Схема является mapping, чаще всего используется dict"
   ]
  },
  {
   "cell_type": "code",
   "execution_count": 2,
   "id": "9522aa9f",
   "metadata": {},
   "outputs": [],
   "source": [
    "from cerberus import Validator"
   ]
  },
  {
   "cell_type": "code",
   "execution_count": 26,
   "id": "41fe729e",
   "metadata": {},
   "outputs": [],
   "source": [
    "user_validator = Validator(\n",
    "    {\n",
    "        'name': {'type': 'string'},\n",
    "        'email': {'type': 'string', 'required': True},\n",
    "        'age': {'type': 'integer', 'min': 0, 'max': 150}\n",
    "    }\n",
    ")"
   ]
  },
  {
   "cell_type": "code",
   "execution_count": 28,
   "id": "9a6036f2",
   "metadata": {},
   "outputs": [
    {
     "data": {
      "text/plain": [
       "True"
      ]
     },
     "execution_count": 28,
     "metadata": {},
     "output_type": "execute_result"
    }
   ],
   "source": [
    "user = {\n",
    "    'name': 'foo',\n",
    "    'email': 'foo@bar.com',\n",
    "    'age': 30,\n",
    "}\n",
    "current_user = user_validator.validate(user)\n",
    "current_user"
   ]
  },
  {
   "cell_type": "markdown",
   "id": "99a3b08d",
   "metadata": {},
   "source": [
    "Минусы:\n",
    "\n",
    "    1. Свой собственный язык даных (str -> string, int -> integer)\n",
    "    2. Тяжело описать сложную схему с помощью dict (пример  validate ipv4 + network interface)\n",
    "    3. Сложные схемы проще описать в YAML файле\n",
    "    4. Выполняет только валидацию данных, не возвращает объект экземпляр класса"
   ]
  },
  {
   "cell_type": "markdown",
   "id": "cf6fc459",
   "metadata": {},
   "source": [
    "### marshmallow"
   ]
  },
  {
   "cell_type": "code",
   "execution_count": null,
   "id": "a3d8a177",
   "metadata": {},
   "outputs": [],
   "source": [
    "!pip install marshmallow"
   ]
  },
  {
   "cell_type": "markdown",
   "id": "f96ff344",
   "metadata": {},
   "source": [
    "Схема описывается в виде класса с помощью типов из fields."
   ]
  },
  {
   "cell_type": "code",
   "execution_count": 59,
   "id": "0c641643",
   "metadata": {},
   "outputs": [],
   "source": [
    "from marshmallow import Schema, fields, validate\n",
    "\n",
    "\n",
    "class UserSchema(Schema):\n",
    "    name = fields.Str()\n",
    "    email = fields.Email(required=True)\n",
    "    age = fields.Int()"
   ]
  },
  {
   "cell_type": "code",
   "execution_count": 60,
   "id": "95999fb3",
   "metadata": {},
   "outputs": [
    {
     "data": {
      "text/plain": [
       "{'email': 'foo@bar.com', 'name': 'foo', 'age': 30}"
      ]
     },
     "execution_count": 60,
     "metadata": {},
     "output_type": "execute_result"
    }
   ],
   "source": [
    "user = {\n",
    "    'name': 'foo',\n",
    "    'email': 'foo@bar.com',\n",
    "    'age': 30,\n",
    "}\n",
    "schema = UserSchema()\n",
    "schema.dump(user)"
   ]
  },
  {
   "cell_type": "markdown",
   "id": "b753cedd",
   "metadata": {},
   "source": [
    "Необходимо реализовать еще один класс, чтобы получить экземпляр класса"
   ]
  },
  {
   "cell_type": "code",
   "execution_count": 51,
   "id": "089a79d9",
   "metadata": {},
   "outputs": [],
   "source": [
    "from marshmallow import Schema, fields, validate, post_load, post_dump\n",
    "\n",
    "\n",
    "class User:\n",
    "    def __init__(self, name, email, age):\n",
    "        self.name = name\n",
    "        self.email = email\n",
    "        self.age = age\n",
    "        \n",
    "    def __repr__(self):\n",
    "        return f'name={self.name}, email={self.email}, age={self.age}'\n",
    "        \n",
    "\n",
    "class UserSchema(Schema):\n",
    "    name = fields.Str()\n",
    "    email = fields.Email(required=True)\n",
    "    age = fields.Int()\n",
    "    \n",
    "    @post_dump\n",
    "    def make_user(self, data, **kwargs):\n",
    "        return User(**data)"
   ]
  },
  {
   "cell_type": "code",
   "execution_count": 52,
   "id": "e5543afa",
   "metadata": {},
   "outputs": [
    {
     "data": {
      "text/plain": [
       "name=foo, email=foo@bar.com, age=30"
      ]
     },
     "execution_count": 52,
     "metadata": {},
     "output_type": "execute_result"
    }
   ],
   "source": [
    "user = {\n",
    "    'name': 'foo',\n",
    "    'email': 'foo@bar.com',\n",
    "    'age': 30,\n",
    "}\n",
    "schema = UserSchema()\n",
    "schema.dump(user)"
   ]
  },
  {
   "cell_type": "markdown",
   "id": "266480a1",
   "metadata": {},
   "source": [
    "Можно использовать вложенные схемы и структуры данных"
   ]
  },
  {
   "cell_type": "code",
   "execution_count": 53,
   "id": "413c304b",
   "metadata": {},
   "outputs": [],
   "source": [
    "from marshmallow import Schema, fields, validate\n",
    "\n",
    "\n",
    "class BookSchema(Schema):\n",
    "    title = fields.String(required=True, validate=validate.Length(max=120))\n",
    "    isbn = fields.String(required=True)\n",
    "\n",
    "class UserSchema(Schema):\n",
    "    email = fields.Email(required=True)\n",
    "    books = fields.Nested(BookSchema, many=True, required=False)"
   ]
  },
  {
   "cell_type": "markdown",
   "id": "5eed426e",
   "metadata": {},
   "source": [
    "Плюсы:\n",
    "\n",
    "    1. Схема задает в виде класса\n",
    "    2. Нет необходимости изучать дополнительный язык типов данных. Все типы данных содержатся в fields и любая ide может их подсказать\n",
    "    3. Можно возращать валидированный экземпляр класса\n",
    "Минусы:\n",
    "\n",
    "    1. Если нужно вернуть экземпляр класса, то необходимо реализовать два класса"
   ]
  },
  {
   "cell_type": "markdown",
   "id": "cce0c686",
   "metadata": {},
   "source": [
    "### pydantic"
   ]
  },
  {
   "cell_type": "code",
   "execution_count": 1,
   "id": "84073634",
   "metadata": {},
   "outputs": [
    {
     "name": "stdout",
     "output_type": "stream",
     "text": [
      "Requirement already satisfied: pydantic in /usr/local/lib/python3.9/site-packages (1.8.2)\n",
      "Requirement already satisfied: typing-extensions>=3.7.4.3 in /usr/local/lib/python3.9/site-packages (from pydantic) (3.10.0.2)\n",
      "\u001b[33mWARNING: You are using pip version 21.1.1; however, version 21.3.1 is available.\n",
      "You should consider upgrading via the '/usr/local/opt/python@3.9/bin/python3.9 -m pip install --upgrade pip' command.\u001b[0m\n"
     ]
    }
   ],
   "source": [
    "!pip install pydantic"
   ]
  },
  {
   "cell_type": "markdown",
   "id": "df7739a2",
   "metadata": {},
   "source": [
    "Объекты для валидации описываются с помощью классов, который возвращает экземпляр класса. Для описание типов используются стандартные типы Python."
   ]
  },
  {
   "cell_type": "code",
   "execution_count": 2,
   "id": "d6022126",
   "metadata": {},
   "outputs": [],
   "source": [
    "from pydantic import BaseModel\n",
    "from typing import Optional\n",
    "\n",
    "class User(BaseModel):\n",
    "    name: Optional[str]\n",
    "    email: str\n",
    "    age: int"
   ]
  },
  {
   "cell_type": "code",
   "execution_count": 3,
   "id": "43c755b6",
   "metadata": {},
   "outputs": [
    {
     "data": {
      "text/plain": [
       "User(name='foo', email='foo@bar.com', age=30)"
      ]
     },
     "execution_count": 3,
     "metadata": {},
     "output_type": "execute_result"
    }
   ],
   "source": [
    "user = {\n",
    "    'name': 'foo',\n",
    "    'email': 'foo@bar.com',\n",
    "    'age': 30,\n",
    "}\n",
    "User(**user)"
   ]
  },
  {
   "cell_type": "markdown",
   "id": "bfef616f",
   "metadata": {},
   "source": [
    "parse_obj - this is very similar to the __init__ method of the model, except it takes a dict rather than keyword arguments. If the object passed is not a dict a ValidationError will be raised."
   ]
  },
  {
   "cell_type": "code",
   "execution_count": 4,
   "id": "e032ebc9",
   "metadata": {},
   "outputs": [
    {
     "data": {
      "text/plain": [
       "User(name='foo', email='foo@bar.com', age=30)"
      ]
     },
     "execution_count": 4,
     "metadata": {},
     "output_type": "execute_result"
    }
   ],
   "source": [
    "user = {\n",
    "    'name': 'foo',\n",
    "    'email': 'foo@bar.com',\n",
    "    'age': 30,\n",
    "}\n",
    "User.parse_obj(user)"
   ]
  },
  {
   "cell_type": "markdown",
   "id": "efcb5c94",
   "metadata": {},
   "source": [
    "parse_raw -  this takes a str or bytes and parses it as json, then passes the result to"
   ]
  },
  {
   "cell_type": "code",
   "execution_count": 7,
   "id": "1178c1d1",
   "metadata": {},
   "outputs": [
    {
     "data": {
      "text/plain": [
       "'{\"name\": \"foo\", \"email\": \"foo@bar.com\", \"age\": 30}'"
      ]
     },
     "execution_count": 7,
     "metadata": {},
     "output_type": "execute_result"
    }
   ],
   "source": [
    "import json\n",
    "user_json = json.dumps(user)\n",
    "user_json"
   ]
  },
  {
   "cell_type": "code",
   "execution_count": 8,
   "id": "8d897091",
   "metadata": {},
   "outputs": [
    {
     "data": {
      "text/plain": [
       "User(name='foo', email='foo@bar.com', age=30)"
      ]
     },
     "execution_count": 8,
     "metadata": {},
     "output_type": "execute_result"
    }
   ],
   "source": [
    "User.parse_raw(user_json)"
   ]
  },
  {
   "cell_type": "markdown",
   "id": "02da6128",
   "metadata": {},
   "source": [
    "parse_file: this takes in a file path, reads the file and passes the contents to parse_raw. If content_type is omitted, it is inferred from the file's extension."
   ]
  },
  {
   "cell_type": "markdown",
   "id": "bf4e4d77",
   "metadata": {},
   "source": [
    "\n",
    "\n"
   ]
  },
  {
   "cell_type": "markdown",
   "id": "98189586",
   "metadata": {},
   "source": [
    "С помощью pydantic можно легко легко преобразовать dataclass в dataclass pydantic, который будет валидироваться"
   ]
  },
  {
   "cell_type": "code",
   "execution_count": 68,
   "id": "8fdd2d47",
   "metadata": {},
   "outputs": [
    {
     "data": {
      "text/plain": [
       "User(name='foo', email='foo@bar.com', age='wrong data')"
      ]
     },
     "execution_count": 68,
     "metadata": {},
     "output_type": "execute_result"
    }
   ],
   "source": [
    "from dataclasses import dataclass\n",
    "\n",
    "@dataclass\n",
    "class User:\n",
    "    name: Optional[str]\n",
    "    email: str\n",
    "    age: int\n",
    "\n",
    "User(email='foo@bar.com', age='wrong data', name='foo')"
   ]
  },
  {
   "cell_type": "code",
   "execution_count": 69,
   "id": "684f3488",
   "metadata": {},
   "outputs": [
    {
     "ename": "ValidationError",
     "evalue": "1 validation error for User\nage\n  value is not a valid integer (type=type_error.integer)",
     "output_type": "error",
     "traceback": [
      "\u001b[0;31m---------------------------------------------------------------------------\u001b[0m",
      "\u001b[0;31mValidationError\u001b[0m                           Traceback (most recent call last)",
      "\u001b[0;32m<ipython-input-69-331dbb105d5d>\u001b[0m in \u001b[0;36m<module>\u001b[0;34m\u001b[0m\n\u001b[1;32m      7\u001b[0m     \u001b[0mage\u001b[0m\u001b[0;34m:\u001b[0m \u001b[0mint\u001b[0m\u001b[0;34m\u001b[0m\u001b[0;34m\u001b[0m\u001b[0m\n\u001b[1;32m      8\u001b[0m \u001b[0;34m\u001b[0m\u001b[0m\n\u001b[0;32m----> 9\u001b[0;31m \u001b[0mUser\u001b[0m\u001b[0;34m(\u001b[0m\u001b[0memail\u001b[0m\u001b[0;34m=\u001b[0m\u001b[0;34m'foo@bar.com'\u001b[0m\u001b[0;34m,\u001b[0m \u001b[0mage\u001b[0m\u001b[0;34m=\u001b[0m\u001b[0;34m'wrong data'\u001b[0m\u001b[0;34m,\u001b[0m \u001b[0mname\u001b[0m\u001b[0;34m=\u001b[0m\u001b[0;34m'foo'\u001b[0m\u001b[0;34m)\u001b[0m\u001b[0;34m\u001b[0m\u001b[0;34m\u001b[0m\u001b[0m\n\u001b[0m",
      "\u001b[0;32m<string>\u001b[0m in \u001b[0;36m__init__\u001b[0;34m(self, name, email, age)\u001b[0m\n",
      "\u001b[0;32m/usr/local/lib/python3.9/site-packages/pydantic/dataclasses.cpython-39-darwin.so\u001b[0m in \u001b[0;36mpydantic.dataclasses._generate_pydantic_post_init._pydantic_post_init\u001b[0;34m()\u001b[0m\n",
      "\u001b[0;31mValidationError\u001b[0m: 1 validation error for User\nage\n  value is not a valid integer (type=type_error.integer)"
     ]
    }
   ],
   "source": [
    "from pydantic.dataclasses import dataclass\n",
    "\n",
    "@dataclass\n",
    "class User:\n",
    "    name: Optional[str]\n",
    "    email: str\n",
    "    age: int\n",
    "\n",
    "User(email='foo@bar.com', age='wrong data', name='foo')"
   ]
  },
  {
   "cell_type": "markdown",
   "id": "e3129c83",
   "metadata": {},
   "source": [
    "Вложенные объекты данных намного проще описывать, чем в marshmallow"
   ]
  },
  {
   "cell_type": "code",
   "execution_count": 62,
   "id": "303e86b5",
   "metadata": {},
   "outputs": [
    {
     "data": {
      "text/plain": [
       "User(name='foo', email='foo@bar.com', books=[Book(name='Foundation', isbn=1), Book(name='Foundation 2', isbn=2)])"
      ]
     },
     "execution_count": 62,
     "metadata": {},
     "output_type": "execute_result"
    }
   ],
   "source": [
    "from pydantic import BaseModel\n",
    "from typing import List\n",
    "\n",
    "class Book(BaseModel):\n",
    "    name: str\n",
    "    isbn: int\n",
    "        \n",
    "\n",
    "class User(BaseModel):\n",
    "    name: Optional[str]\n",
    "    email: str\n",
    "    books: List[Book]\n",
    "\n",
    "        \n",
    "User(**{\n",
    "    'name': 'foo',\n",
    "    'email': 'foo@bar.com',\n",
    "    'books': [\n",
    "        {\n",
    "            'name': 'Foundation',\n",
    "            'isbn': 1,\n",
    "        },\n",
    "        {\n",
    "            'name': 'Foundation 2',\n",
    "            'isbn': 2,\n",
    "        },\n",
    "    ],\n",
    "})"
   ]
  },
  {
   "cell_type": "markdown",
   "id": "c371b6d0",
   "metadata": {},
   "source": [
    "#### Типы данных для валидации (Field types)"
   ]
  },
  {
   "cell_type": "markdown",
   "id": "a918f82c",
   "metadata": {},
   "source": [
    "Pydantic поддерживает стандартные типы данных языка Python, типы и конструкции из модуля typing"
   ]
  },
  {
   "cell_type": "code",
   "execution_count": 7,
   "id": "a77302bf",
   "metadata": {},
   "outputs": [
    {
     "data": {
      "text/plain": [
       "UserSchema(name='foo', email='foo@bar.com')"
      ]
     },
     "execution_count": 7,
     "metadata": {},
     "output_type": "execute_result"
    }
   ],
   "source": [
    "from typing import Optional\n",
    "from pydantic import BaseModel, EmailStr\n",
    "\n",
    "\n",
    "class UserSchema(BaseModel):\n",
    "    name: Optional[str]\n",
    "    email: EmailStr\n",
    "\n",
    "        \n",
    "UserSchema(**{\n",
    "    'name': 'foo',\n",
    "    'email': 'foo@bar.com',\n",
    "})"
   ]
  },
  {
   "cell_type": "code",
   "execution_count": 8,
   "id": "9df9740d",
   "metadata": {},
   "outputs": [
    {
     "data": {
      "text/plain": [
       "UserSchema(name=None, email='foo@bar.com')"
      ]
     },
     "execution_count": 8,
     "metadata": {},
     "output_type": "execute_result"
    }
   ],
   "source": [
    "UserSchema(**{\n",
    "    'name': None,\n",
    "    'email': 'foo@bar.com',\n",
    "})"
   ]
  },
  {
   "cell_type": "markdown",
   "id": "9eb6f85a",
   "metadata": {},
   "source": [
    "Union"
   ]
  },
  {
   "cell_type": "code",
   "execution_count": 65,
   "id": "90c64cd3",
   "metadata": {},
   "outputs": [
    {
     "data": {
      "text/plain": [
       "FilmSchema(title='Star Wars')"
      ]
     },
     "execution_count": 65,
     "metadata": {},
     "output_type": "execute_result"
    }
   ],
   "source": [
    "from typing import Union\n",
    "from pydantic import BaseModel\n",
    "\n",
    "\n",
    "class FilmSchema(BaseModel):\n",
    "    title: Union[int, str]\n",
    "\n",
    "        \n",
    "FilmSchema(**{\n",
    "    'title': 'Star Wars',\n",
    "})"
   ]
  },
  {
   "cell_type": "code",
   "execution_count": 66,
   "id": "35ff7eca",
   "metadata": {},
   "outputs": [
    {
     "data": {
      "text/plain": [
       "FilmSchema(title=21)"
      ]
     },
     "execution_count": 66,
     "metadata": {},
     "output_type": "execute_result"
    }
   ],
   "source": [
    "FilmSchema(**{\n",
    "    'title': 21,\n",
    "})"
   ]
  },
  {
   "cell_type": "markdown",
   "id": "d71985a3",
   "metadata": {},
   "source": [
    "Если написать:"
   ]
  },
  {
   "cell_type": "code",
   "execution_count": 70,
   "id": "8a932f98",
   "metadata": {},
   "outputs": [],
   "source": [
    "from typing import Union\n",
    "from pydantic import BaseModel\n",
    "\n",
    "\n",
    "class FilmSchema(BaseModel):\n",
    "    title: Union[str, int]"
   ]
  },
  {
   "cell_type": "markdown",
   "id": "c7dd7bae",
   "metadata": {},
   "source": [
    "То для второго примера pydantic приведет 21 к строке, потому-что Pydantic  идет последовательно по типам из Union и пытается привести данные к этому типу. \n",
    "(tries to match types in the order of the union.) \n",
    "https://github.com/samuelcolvin/pydantic/issues/2513\n",
    "https://github.com/PrettyWood/pydantic/pull/66/files#diff-bd467a363c9f155a2e6a7716aeca0c351089135a53d09a66138cea4f16506ebdR2728-R2738"
   ]
  },
  {
   "cell_type": "code",
   "execution_count": 71,
   "id": "a823aab8",
   "metadata": {},
   "outputs": [
    {
     "data": {
      "text/plain": [
       "FilmSchema(title='21')"
      ]
     },
     "execution_count": 71,
     "metadata": {},
     "output_type": "execute_result"
    }
   ],
   "source": [
    "FilmSchema(**{\n",
    "    'title': 21,\n",
    "})"
   ]
  },
  {
   "cell_type": "markdown",
   "id": "d7d0393c",
   "metadata": {},
   "source": [
    "Подробнее о field types можно прочитать в документации https://pydantic-docs.helpmanual.io/usage/types/"
   ]
  },
  {
   "cell_type": "markdown",
   "id": "01f98eb3",
   "metadata": {},
   "source": [
    "#### Custom types"
   ]
  },
  {
   "cell_type": "markdown",
   "id": "54bb4a21",
   "metadata": {},
   "source": [
    "Класс положительных чисел:"
   ]
  },
  {
   "cell_type": "code",
   "execution_count": 93,
   "id": "9a2703ef",
   "metadata": {},
   "outputs": [],
   "source": [
    "class PositiveNumber(int):\n",
    "    @classmethod\n",
    "    def validate(cls, v):\n",
    "        if not isinstance(v, int):\n",
    "            raise ValueError(f'int type is expected instead of {type(v)} type')\n",
    "        if v < 0:\n",
    "            raise ValueError(f'The number {v} is not positive')\n",
    "        return v\n",
    "            \n",
    "    @classmethod\n",
    "    def __get_validators__(cls):\n",
    "        yield cls.validate"
   ]
  },
  {
   "cell_type": "code",
   "execution_count": 96,
   "id": "14767b4e",
   "metadata": {},
   "outputs": [
    {
     "data": {
      "text/plain": [
       "Square(side_length=2)"
      ]
     },
     "execution_count": 96,
     "metadata": {},
     "output_type": "execute_result"
    }
   ],
   "source": [
    "from pydantic import BaseModel\n",
    "\n",
    "\n",
    "class Square(BaseModel):\n",
    "    side_length: PositiveNumber\n",
    "        \n",
    "Square(side_length=2)"
   ]
  },
  {
   "cell_type": "code",
   "execution_count": 97,
   "id": "46918d41",
   "metadata": {},
   "outputs": [
    {
     "ename": "ValidationError",
     "evalue": "1 validation error for Square\nside_length\n  The number -2 is not positive (type=value_error)",
     "output_type": "error",
     "traceback": [
      "\u001b[0;31m---------------------------------------------------------------------------\u001b[0m",
      "\u001b[0;31mValidationError\u001b[0m                           Traceback (most recent call last)",
      "\u001b[0;32m<ipython-input-97-6ecf3e622ec0>\u001b[0m in \u001b[0;36m<module>\u001b[0;34m\u001b[0m\n\u001b[0;32m----> 1\u001b[0;31m \u001b[0mSquare\u001b[0m\u001b[0;34m(\u001b[0m\u001b[0mside_length\u001b[0m\u001b[0;34m=\u001b[0m\u001b[0;34m-\u001b[0m\u001b[0;36m2\u001b[0m\u001b[0;34m)\u001b[0m\u001b[0;34m\u001b[0m\u001b[0;34m\u001b[0m\u001b[0m\n\u001b[0m",
      "\u001b[0;32m/usr/local/lib/python3.9/site-packages/pydantic/main.cpython-39-darwin.so\u001b[0m in \u001b[0;36mpydantic.main.BaseModel.__init__\u001b[0;34m()\u001b[0m\n",
      "\u001b[0;31mValidationError\u001b[0m: 1 validation error for Square\nside_length\n  The number -2 is not positive (type=value_error)"
     ]
    }
   ],
   "source": [
    "Square(side_length=-2)"
   ]
  },
  {
   "cell_type": "markdown",
   "id": "ce32cc2f",
   "metadata": {},
   "source": [
    "#### constraining  types"
   ]
  },
  {
   "cell_type": "markdown",
   "id": "b73d0289",
   "metadata": {},
   "source": [
    "Допустим нам не нужно создавать свой тип данных, нас устроит обычный тип данных, но в них должно быть кастомное ограничение"
   ]
  },
  {
   "cell_type": "markdown",
   "id": "a06afda2",
   "metadata": {},
   "source": [
    "Значения различных стандартных типов может быть ограничены используя функции con* типа. \n",
    "Например:\n",
    " * constr для str\n",
    " * conint для int\n",
    " * conlist для list\n",
    " * conset для set\n",
    " * etc\n"
   ]
  },
  {
   "cell_type": "markdown",
   "id": "e82b1a52",
   "metadata": {},
   "source": [
    "Попробуем ограничить значение стороны квадрата. Строна квадрата не может быть отрицательной. Так же в данном случае сделаем ее меньше 100"
   ]
  },
  {
   "cell_type": "code",
   "execution_count": 99,
   "id": "679d3211",
   "metadata": {},
   "outputs": [
    {
     "data": {
      "text/plain": [
       "Square(side_length=2)"
      ]
     },
     "execution_count": 99,
     "metadata": {},
     "output_type": "execute_result"
    }
   ],
   "source": [
    "from pydantic import BaseModel, conint\n",
    "\n",
    "\n",
    "class Square(BaseModel):\n",
    "    side_length: conint(ge=0, lt=100)\n",
    "        \n",
    "Square(side_length=2)"
   ]
  },
  {
   "cell_type": "code",
   "execution_count": 100,
   "id": "d13d402e",
   "metadata": {},
   "outputs": [
    {
     "data": {
      "text/plain": [
       "Square(side_length=0)"
      ]
     },
     "execution_count": 100,
     "metadata": {},
     "output_type": "execute_result"
    }
   ],
   "source": [
    "Square(side_length=0)"
   ]
  },
  {
   "cell_type": "code",
   "execution_count": 101,
   "id": "014c2682",
   "metadata": {},
   "outputs": [
    {
     "ename": "ValidationError",
     "evalue": "1 validation error for Square\nside_length\n  ensure this value is less than 100 (type=value_error.number.not_lt; limit_value=100)",
     "output_type": "error",
     "traceback": [
      "\u001b[0;31m---------------------------------------------------------------------------\u001b[0m",
      "\u001b[0;31mValidationError\u001b[0m                           Traceback (most recent call last)",
      "\u001b[0;32m<ipython-input-101-4af509339735>\u001b[0m in \u001b[0;36m<module>\u001b[0;34m\u001b[0m\n\u001b[0;32m----> 1\u001b[0;31m \u001b[0mSquare\u001b[0m\u001b[0;34m(\u001b[0m\u001b[0mside_length\u001b[0m\u001b[0;34m=\u001b[0m\u001b[0;36m100\u001b[0m\u001b[0;34m)\u001b[0m\u001b[0;34m\u001b[0m\u001b[0;34m\u001b[0m\u001b[0m\n\u001b[0m",
      "\u001b[0;32m/usr/local/lib/python3.9/site-packages/pydantic/main.cpython-39-darwin.so\u001b[0m in \u001b[0;36mpydantic.main.BaseModel.__init__\u001b[0;34m()\u001b[0m\n",
      "\u001b[0;31mValidationError\u001b[0m: 1 validation error for Square\nside_length\n  ensure this value is less than 100 (type=value_error.number.not_lt; limit_value=100)"
     ]
    }
   ],
   "source": [
    "Square(side_length=100)"
   ]
  },
  {
   "cell_type": "code",
   "execution_count": 102,
   "id": "92e476ca",
   "metadata": {},
   "outputs": [
    {
     "ename": "ValidationError",
     "evalue": "1 validation error for Square\nside_length\n  ensure this value is greater than or equal to 0 (type=value_error.number.not_ge; limit_value=0)",
     "output_type": "error",
     "traceback": [
      "\u001b[0;31m---------------------------------------------------------------------------\u001b[0m",
      "\u001b[0;31mValidationError\u001b[0m                           Traceback (most recent call last)",
      "\u001b[0;32m<ipython-input-102-6ecf3e622ec0>\u001b[0m in \u001b[0;36m<module>\u001b[0;34m\u001b[0m\n\u001b[0;32m----> 1\u001b[0;31m \u001b[0mSquare\u001b[0m\u001b[0;34m(\u001b[0m\u001b[0mside_length\u001b[0m\u001b[0;34m=\u001b[0m\u001b[0;34m-\u001b[0m\u001b[0;36m2\u001b[0m\u001b[0;34m)\u001b[0m\u001b[0;34m\u001b[0m\u001b[0;34m\u001b[0m\u001b[0m\n\u001b[0m",
      "\u001b[0;32m/usr/local/lib/python3.9/site-packages/pydantic/main.cpython-39-darwin.so\u001b[0m in \u001b[0;36mpydantic.main.BaseModel.__init__\u001b[0;34m()\u001b[0m\n",
      "\u001b[0;31mValidationError\u001b[0m: 1 validation error for Square\nside_length\n  ensure this value is greater than or equal to 0 (type=value_error.number.not_ge; limit_value=0)"
     ]
    }
   ],
   "source": [
    "Square(side_length=-2)"
   ]
  },
  {
   "cell_type": "markdown",
   "id": "67972fac",
   "metadata": {},
   "source": [
    "#### Валидация данных с помощью pydantic"
   ]
  },
  {
   "cell_type": "code",
   "execution_count": 9,
   "id": "57a77873",
   "metadata": {},
   "outputs": [
    {
     "name": "stdout",
     "output_type": "stream",
     "text": [
      "Requirement already satisfied: email-validator in /usr/local/lib/python3.9/site-packages (1.1.3)\n",
      "Requirement already satisfied: dnspython>=1.15.0 in /usr/local/lib/python3.9/site-packages (from email-validator) (2.1.0)\n",
      "Requirement already satisfied: idna>=2.0.0 in /usr/local/lib/python3.9/site-packages (from email-validator) (2.10)\n",
      "\u001b[33mWARNING: You are using pip version 21.1.1; however, version 21.3 is available.\n",
      "You should consider upgrading via the '/usr/local/opt/python@3.9/bin/python3.9 -m pip install --upgrade pip' command.\u001b[0m\n"
     ]
    }
   ],
   "source": [
    "!pip install email-validator"
   ]
  },
  {
   "cell_type": "code",
   "execution_count": 79,
   "id": "e23f868e",
   "metadata": {},
   "outputs": [
    {
     "data": {
      "text/plain": [
       "UserSchema(name='foo', email='foo@bar.com', books=[BookSchema(name='Foundation', isbn=1), BookSchema(name='Foundation 2', isbn=2)])"
      ]
     },
     "execution_count": 79,
     "metadata": {},
     "output_type": "execute_result"
    }
   ],
   "source": [
    "from pydantic import BaseModel, constr, EmailStr\n",
    "from typing import List\n",
    "\n",
    "class BookSchema(BaseModel):\n",
    "    name: constr(min_length=2, max_length=120)\n",
    "    isbn: int\n",
    "        \n",
    "\n",
    "class UserSchema(BaseModel):\n",
    "    name: Optional[str]\n",
    "    email: EmailStr\n",
    "    books: List[BookSchema]\n",
    "\n",
    "        \n",
    "UserSchema(**{\n",
    "    'name': 'foo',\n",
    "    'email': 'foo@bar.com',\n",
    "    'books': [\n",
    "        {\n",
    "            'name': 'Foundation',\n",
    "            'isbn': 1,\n",
    "        },\n",
    "        {\n",
    "            'name': 'Foundation 2',\n",
    "            'isbn': 2,\n",
    "        },\n",
    "    ],\n",
    "})"
   ]
  },
  {
   "cell_type": "markdown",
   "id": "d1db605d",
   "metadata": {},
   "source": [
    "#### Validator"
   ]
  },
  {
   "cell_type": "code",
   "execution_count": 104,
   "id": "8a41bff5",
   "metadata": {},
   "outputs": [],
   "source": [
    "from uuid import UUID, uuid4\n",
    "from pydantic import BaseModel, validator\n",
    "\n",
    "\n",
    "class GuestSchema(BaseModel):\n",
    "    id: UUID\n",
    "    name: str\n",
    "    \n",
    "    @validator('name')\n",
    "    def no_dark_side_of_the_force(cls, value: str) -> str:\n",
    "        if 'darth' in value.lower() or 'vaider' in value.lower():\n",
    "            raise ValueError('Darth Vaider is not allowed!')\n",
    "        return value"
   ]
  },
  {
   "cell_type": "code",
   "execution_count": 105,
   "id": "238377a1",
   "metadata": {},
   "outputs": [
    {
     "ename": "ValidationError",
     "evalue": "1 validation error for UserSchema\nname\n  Darth Vaider is not allowed! (type=value_error)",
     "output_type": "error",
     "traceback": [
      "\u001b[0;31m---------------------------------------------------------------------------\u001b[0m",
      "\u001b[0;31mValidationError\u001b[0m                           Traceback (most recent call last)",
      "\u001b[0;32m<ipython-input-105-31e99666ca21>\u001b[0m in \u001b[0;36m<module>\u001b[0;34m\u001b[0m\n\u001b[0;32m----> 1\u001b[0;31m \u001b[0mUserSchema\u001b[0m\u001b[0;34m(\u001b[0m\u001b[0;34m**\u001b[0m\u001b[0;34m{\u001b[0m\u001b[0;34m'id'\u001b[0m\u001b[0;34m:\u001b[0m \u001b[0muuid4\u001b[0m\u001b[0;34m(\u001b[0m\u001b[0;34m)\u001b[0m\u001b[0;34m,\u001b[0m \u001b[0;34m'name'\u001b[0m\u001b[0;34m:\u001b[0m \u001b[0;34m'Darth Vaider'\u001b[0m\u001b[0;34m}\u001b[0m\u001b[0;34m)\u001b[0m\u001b[0;34m\u001b[0m\u001b[0;34m\u001b[0m\u001b[0m\n\u001b[0m",
      "\u001b[0;32m/usr/local/lib/python3.9/site-packages/pydantic/main.cpython-39-darwin.so\u001b[0m in \u001b[0;36mpydantic.main.BaseModel.__init__\u001b[0;34m()\u001b[0m\n",
      "\u001b[0;31mValidationError\u001b[0m: 1 validation error for UserSchema\nname\n  Darth Vaider is not allowed! (type=value_error)"
     ]
    }
   ],
   "source": [
    "UserSchema(**{'id': uuid4(), 'name': 'Darth Vaider'})"
   ]
  },
  {
   "cell_type": "code",
   "execution_count": 106,
   "id": "d4113fbe",
   "metadata": {},
   "outputs": [
    {
     "data": {
      "text/plain": [
       "UserSchema(id=UUID('dc3424ef-fa6e-4ef5-a925-0c6ca4dd0492'), name='Princess Leia')"
      ]
     },
     "execution_count": 106,
     "metadata": {},
     "output_type": "execute_result"
    }
   ],
   "source": [
    "UserSchema(**{'id': uuid4(), 'name': 'Princess Leia'})"
   ]
  },
  {
   "cell_type": "code",
   "execution_count": 44,
   "id": "0c9f94e8",
   "metadata": {},
   "outputs": [],
   "source": [
    "from uuid import UUID, uuid4\n",
    "from pydantic import BaseModel, validator\n",
    "\n",
    "\n",
    "class GuestSchema(BaseModel):\n",
    "    id: UUID\n",
    "    name: str\n",
    "    password: str\n",
    "    \n",
    "    @validator('password')\n",
    "    def validate_password(cls, value: str) -> str:\n",
    "        if value != 'May the force be with you':\n",
    "            raise ValueError('The password is incorrect')\n",
    "        return value"
   ]
  },
  {
   "cell_type": "code",
   "execution_count": 45,
   "id": "3a1c2d85",
   "metadata": {},
   "outputs": [
    {
     "data": {
      "text/plain": [
       "GuestSchema(id=UUID('8dcc066f-aeb2-42a3-b8d3-fec3497c1349'), name='Princess Leia', password='May the force be with you')"
      ]
     },
     "execution_count": 45,
     "metadata": {},
     "output_type": "execute_result"
    }
   ],
   "source": [
    "GuestSchema(id=uuid4(), name='Princess Leia', password='May the force be with you')"
   ]
  },
  {
   "cell_type": "code",
   "execution_count": 46,
   "id": "a5de6a38",
   "metadata": {},
   "outputs": [
    {
     "ename": "ValidationError",
     "evalue": "1 validation error for GuestSchema\npassword\n  The password is incorrect (type=value_error)",
     "output_type": "error",
     "traceback": [
      "\u001b[0;31m---------------------------------------------------------------------------\u001b[0m",
      "\u001b[0;31mValidationError\u001b[0m                           Traceback (most recent call last)",
      "\u001b[0;32m<ipython-input-46-c36c3f650f3c>\u001b[0m in \u001b[0;36m<module>\u001b[0;34m\u001b[0m\n\u001b[0;32m----> 1\u001b[0;31m \u001b[0mGuestSchema\u001b[0m\u001b[0;34m(\u001b[0m\u001b[0mid\u001b[0m\u001b[0;34m=\u001b[0m\u001b[0muuid4\u001b[0m\u001b[0;34m(\u001b[0m\u001b[0;34m)\u001b[0m\u001b[0;34m,\u001b[0m \u001b[0mname\u001b[0m\u001b[0;34m=\u001b[0m\u001b[0;34m'Darth Vaider'\u001b[0m\u001b[0;34m,\u001b[0m \u001b[0mpassword\u001b[0m\u001b[0;34m=\u001b[0m\u001b[0;34m'sniffing sounds'\u001b[0m\u001b[0;34m)\u001b[0m\u001b[0;34m\u001b[0m\u001b[0;34m\u001b[0m\u001b[0m\n\u001b[0m",
      "\u001b[0;32m/usr/local/lib/python3.9/site-packages/pydantic/main.cpython-39-darwin.so\u001b[0m in \u001b[0;36mpydantic.main.BaseModel.__init__\u001b[0;34m()\u001b[0m\n",
      "\u001b[0;31mValidationError\u001b[0m: 1 validation error for GuestSchema\npassword\n  The password is incorrect (type=value_error)"
     ]
    }
   ],
   "source": [
    "GuestSchema(id=uuid4(), name='Darth Vaider', password='sniffing sounds')"
   ]
  },
  {
   "cell_type": "markdown",
   "id": "7aa0847c",
   "metadata": {},
   "source": [
    "### Validate 2 fields together"
   ]
  },
  {
   "cell_type": "code",
   "execution_count": 107,
   "id": "d4fafdc1",
   "metadata": {},
   "outputs": [],
   "source": [
    "from uuid import UUID, uuid4\n",
    "from pydantic import BaseModel, validator\n",
    "\n",
    "\n",
    "class GuestSchema(BaseModel):\n",
    "    id: UUID\n",
    "    name: str\n",
    "    password: str\n",
    "    \n",
    "    @validator('password', pre=True, always=True)\n",
    "    def validate_password(cls, value, values) -> str:\n",
    "        if value != 'May the force be with you':\n",
    "            raise ValueError('The password is incorrect')\n",
    "        if 'darth' in values.get('name').lower() or 'vaider' in values.get('name').lower():\n",
    "            raise ValueError('The password is incorrect')\n",
    "        return value"
   ]
  },
  {
   "cell_type": "code",
   "execution_count": 108,
   "id": "5d663f26",
   "metadata": {},
   "outputs": [
    {
     "data": {
      "text/plain": [
       "GuestSchema(id=UUID('8072ba0f-473a-447a-a780-e9276c65a9fa'), name='Princess Leia', password='May the force be with you')"
      ]
     },
     "execution_count": 108,
     "metadata": {},
     "output_type": "execute_result"
    }
   ],
   "source": [
    "GuestSchema(id=uuid4(), name='Princess Leia', password='May the force be with you')"
   ]
  },
  {
   "cell_type": "code",
   "execution_count": 109,
   "id": "0f8dc16c",
   "metadata": {},
   "outputs": [
    {
     "ename": "ValidationError",
     "evalue": "1 validation error for GuestSchema\npassword\n  The password is incorrect (type=value_error)",
     "output_type": "error",
     "traceback": [
      "\u001b[0;31m---------------------------------------------------------------------------\u001b[0m",
      "\u001b[0;31mValidationError\u001b[0m                           Traceback (most recent call last)",
      "\u001b[0;32m<ipython-input-109-b5cc37053143>\u001b[0m in \u001b[0;36m<module>\u001b[0;34m\u001b[0m\n\u001b[0;32m----> 1\u001b[0;31m \u001b[0mGuestSchema\u001b[0m\u001b[0;34m(\u001b[0m\u001b[0mid\u001b[0m\u001b[0;34m=\u001b[0m\u001b[0muuid4\u001b[0m\u001b[0;34m(\u001b[0m\u001b[0;34m)\u001b[0m\u001b[0;34m,\u001b[0m \u001b[0mname\u001b[0m\u001b[0;34m=\u001b[0m\u001b[0;34m'Darth Vaider'\u001b[0m\u001b[0;34m,\u001b[0m \u001b[0mpassword\u001b[0m\u001b[0;34m=\u001b[0m\u001b[0;34m'May the force be with you'\u001b[0m\u001b[0;34m)\u001b[0m\u001b[0;34m\u001b[0m\u001b[0;34m\u001b[0m\u001b[0m\n\u001b[0m",
      "\u001b[0;32m/usr/local/lib/python3.9/site-packages/pydantic/main.cpython-39-darwin.so\u001b[0m in \u001b[0;36mpydantic.main.BaseModel.__init__\u001b[0;34m()\u001b[0m\n",
      "\u001b[0;31mValidationError\u001b[0m: 1 validation error for GuestSchema\npassword\n  The password is incorrect (type=value_error)"
     ]
    }
   ],
   "source": [
    "GuestSchema(id=uuid4(), name='Darth Vaider', password='May the force be with you')"
   ]
  },
  {
   "cell_type": "code",
   "execution_count": 110,
   "id": "68f39956",
   "metadata": {},
   "outputs": [
    {
     "ename": "ValidationError",
     "evalue": "1 validation error for GuestSchema\npassword\n  The password is incorrect (type=value_error)",
     "output_type": "error",
     "traceback": [
      "\u001b[0;31m---------------------------------------------------------------------------\u001b[0m",
      "\u001b[0;31mValidationError\u001b[0m                           Traceback (most recent call last)",
      "\u001b[0;32m<ipython-input-110-0d229dcd2f4f>\u001b[0m in \u001b[0;36m<module>\u001b[0;34m\u001b[0m\n\u001b[0;32m----> 1\u001b[0;31m \u001b[0mGuestSchema\u001b[0m\u001b[0;34m(\u001b[0m\u001b[0mid\u001b[0m\u001b[0;34m=\u001b[0m\u001b[0muuid4\u001b[0m\u001b[0;34m(\u001b[0m\u001b[0;34m)\u001b[0m\u001b[0;34m,\u001b[0m \u001b[0mname\u001b[0m\u001b[0;34m=\u001b[0m\u001b[0;34m'Darth Vaider'\u001b[0m\u001b[0;34m,\u001b[0m \u001b[0mpassword\u001b[0m\u001b[0;34m=\u001b[0m\u001b[0;34m'May the force be with you!'\u001b[0m\u001b[0;34m)\u001b[0m\u001b[0;34m\u001b[0m\u001b[0;34m\u001b[0m\u001b[0m\n\u001b[0m",
      "\u001b[0;32m/usr/local/lib/python3.9/site-packages/pydantic/main.cpython-39-darwin.so\u001b[0m in \u001b[0;36mpydantic.main.BaseModel.__init__\u001b[0;34m()\u001b[0m\n",
      "\u001b[0;31mValidationError\u001b[0m: 1 validation error for GuestSchema\npassword\n  The password is incorrect (type=value_error)"
     ]
    }
   ],
   "source": [
    "GuestSchema(id=uuid4(), name='Darth Vaider', password='May the force be with you!')"
   ]
  },
  {
   "cell_type": "markdown",
   "id": "36dcfffe",
   "metadata": {},
   "source": [
    "#### ValidationError"
   ]
  },
  {
   "cell_type": "markdown",
   "id": "da86bc5e",
   "metadata": {},
   "source": [
    "Pydantic поднимает ValidationError всякий раз, когда обнаруживает ошибку в проверяемых данных"
   ]
  },
  {
   "cell_type": "code",
   "execution_count": 82,
   "id": "400dbd1c",
   "metadata": {},
   "outputs": [
    {
     "ename": "ValidationError",
     "evalue": "1 validation error for User\nname\n  str type expected (type=type_error.str)",
     "output_type": "error",
     "traceback": [
      "\u001b[0;31m---------------------------------------------------------------------------\u001b[0m",
      "\u001b[0;31mValidationError\u001b[0m                           Traceback (most recent call last)",
      "\u001b[0;32m<ipython-input-82-0082fd2e2950>\u001b[0m in \u001b[0;36m<module>\u001b[0;34m\u001b[0m\n\u001b[1;32m      5\u001b[0m \u001b[0;34m\u001b[0m\u001b[0m\n\u001b[1;32m      6\u001b[0m \u001b[0;34m\u001b[0m\u001b[0m\n\u001b[0;32m----> 7\u001b[0;31m \u001b[0mUser\u001b[0m\u001b[0;34m(\u001b[0m\u001b[0mname\u001b[0m\u001b[0;34m=\u001b[0m\u001b[0;34m[\u001b[0m\u001b[0;34m]\u001b[0m\u001b[0;34m)\u001b[0m\u001b[0;34m\u001b[0m\u001b[0;34m\u001b[0m\u001b[0m\n\u001b[0m",
      "\u001b[0;32m/usr/local/lib/python3.9/site-packages/pydantic/main.cpython-39-darwin.so\u001b[0m in \u001b[0;36mpydantic.main.BaseModel.__init__\u001b[0;34m()\u001b[0m\n",
      "\u001b[0;31mValidationError\u001b[0m: 1 validation error for User\nname\n  str type expected (type=type_error.str)"
     ]
    }
   ],
   "source": [
    "from pydantic import BaseModel\n",
    "\n",
    "class User(BaseModel):\n",
    "    name: str\n",
    "        \n",
    "\n",
    "User(name=[])"
   ]
  },
  {
   "cell_type": "markdown",
   "id": "29b6ffd7",
   "metadata": {},
   "source": [
    "Валидаторы реализованные программистом, не должны поднимать ValidationError сами, вместо этого нужно использовать ValueError, TypeError или AssertionError (или подклассы ValueError или TypeError), так как эти исключения pydantic словит и будет использовать для ValidationError.\n",
    "\n",
    "В конечном счете одно исключение будет вызвано и ValidationError будет содержать информацию обо всех ошибках и описание как они произошли."
   ]
  },
  {
   "cell_type": "markdown",
   "id": "8623e186",
   "metadata": {},
   "source": [
    "Рассмотрим как можно получить доступ к ошибкам."
   ]
  },
  {
   "cell_type": "markdown",
   "id": "3a322d60",
   "metadata": {},
   "source": [
    "e.json() - возвращает ошибки в виде json (Удобно в web-приложениях, pydantic используется в fast-API)"
   ]
  },
  {
   "cell_type": "code",
   "execution_count": 88,
   "id": "e57ed47a",
   "metadata": {},
   "outputs": [
    {
     "name": "stdout",
     "output_type": "stream",
     "text": [
      "[\n",
      "  {\n",
      "    \"loc\": [\n",
      "      \"name\"\n",
      "    ],\n",
      "    \"msg\": \"str type expected\",\n",
      "    \"type\": \"type_error.str\"\n",
      "  }\n",
      "]\n"
     ]
    }
   ],
   "source": [
    "from pydantic import BaseModel, ValidationError\n",
    "\n",
    "class User(BaseModel):\n",
    "    name: str\n",
    "        \n",
    "\n",
    "try:\n",
    "    User(name=[])\n",
    "except ValidationError as e:\n",
    "    print(e.json())"
   ]
  },
  {
   "cell_type": "markdown",
   "id": "51b08d2a",
   "metadata": {},
   "source": [
    "e.errors() - возвращает список найденных ошибок во входных данных"
   ]
  },
  {
   "cell_type": "code",
   "execution_count": 89,
   "id": "cef6860b",
   "metadata": {},
   "outputs": [
    {
     "name": "stdout",
     "output_type": "stream",
     "text": [
      "[{'loc': ('name',), 'msg': 'str type expected', 'type': 'type_error.str'}]\n"
     ]
    }
   ],
   "source": [
    "try:\n",
    "    User(name=[])\n",
    "except ValidationError as e:\n",
    "    print(e.errors())"
   ]
  },
  {
   "cell_type": "markdown",
   "id": "081d430e",
   "metadata": {},
   "source": [
    "str(e) - возвращает ошибки в читаемом формате"
   ]
  },
  {
   "cell_type": "code",
   "execution_count": 90,
   "id": "c144d8ce",
   "metadata": {
    "scrolled": true
   },
   "outputs": [
    {
     "name": "stdout",
     "output_type": "stream",
     "text": [
      "1 validation error for User\n",
      "name\n",
      "  str type expected (type=type_error.str)\n"
     ]
    }
   ],
   "source": [
    "try:\n",
    "    User(name=[])\n",
    "except ValidationError as e:\n",
    "    print(e)    # print(str(e))"
   ]
  },
  {
   "cell_type": "markdown",
   "id": "00fa440e",
   "metadata": {},
   "source": [
    "#### Export data"
   ]
  },
  {
   "cell_type": "code",
   "execution_count": 48,
   "id": "b7c5b8c2",
   "metadata": {},
   "outputs": [],
   "source": [
    "leia = GuestSchema(id=uuid4(), name='Princess Leia', password='May the force be with you')"
   ]
  },
  {
   "cell_type": "code",
   "execution_count": 49,
   "id": "22f2abaa",
   "metadata": {},
   "outputs": [
    {
     "data": {
      "text/plain": [
       "{'id': UUID('405f70db-591f-48c3-8461-e41cc8f3fc27'),\n",
       " 'name': 'Princess Leia',\n",
       " 'password': 'May the force be with you'}"
      ]
     },
     "execution_count": 49,
     "metadata": {},
     "output_type": "execute_result"
    }
   ],
   "source": [
    "leia.dict()"
   ]
  },
  {
   "cell_type": "code",
   "execution_count": 50,
   "id": "8aaaf9b9",
   "metadata": {},
   "outputs": [
    {
     "data": {
      "text/plain": [
       "'{\"id\": \"405f70db-591f-48c3-8461-e41cc8f3fc27\", \"name\": \"Princess Leia\", \"password\": \"May the force be with you\"}'"
      ]
     },
     "execution_count": 50,
     "metadata": {},
     "output_type": "execute_result"
    }
   ],
   "source": [
    "leia.json()"
   ]
  },
  {
   "cell_type": "markdown",
   "id": "b9d6e71c",
   "metadata": {},
   "source": [
    "exclude"
   ]
  },
  {
   "cell_type": "code",
   "execution_count": 51,
   "id": "e61e8086",
   "metadata": {},
   "outputs": [
    {
     "data": {
      "text/plain": [
       "'{\"id\": \"405f70db-591f-48c3-8461-e41cc8f3fc27\", \"name\": \"Princess Leia\"}'"
      ]
     },
     "execution_count": 51,
     "metadata": {},
     "output_type": "execute_result"
    }
   ],
   "source": [
    "leia.json(exclude={'password'})"
   ]
  },
  {
   "cell_type": "code",
   "execution_count": 52,
   "id": "1665e1c1",
   "metadata": {},
   "outputs": [
    {
     "data": {
      "text/plain": [
       "{'id': UUID('405f70db-591f-48c3-8461-e41cc8f3fc27'), 'name': 'Princess Leia'}"
      ]
     },
     "execution_count": 52,
     "metadata": {},
     "output_type": "execute_result"
    }
   ],
   "source": [
    "leia.dict(exclude={'password'})"
   ]
  },
  {
   "cell_type": "markdown",
   "id": "210093fe",
   "metadata": {},
   "source": [
    "#### Allow extra data\n",
    "\n",
    "Иногда из сервисов можно получать избыточные данные. В таком случае можно простo использовать параметр extra='allow'\n"
   ]
  },
  {
   "cell_type": "code",
   "execution_count": 73,
   "id": "bf122b53",
   "metadata": {},
   "outputs": [],
   "source": [
    "from pydantic import BaseModel\n",
    "from uuid import UUID, uuid4\n",
    "\n",
    "\n",
    "class User(BaseModel):\n",
    "    id: UUID\n",
    "    username: str\n",
    "        \n",
    "    class Config:\n",
    "        extra='allow'"
   ]
  },
  {
   "cell_type": "code",
   "execution_count": 74,
   "id": "517d2d26",
   "metadata": {},
   "outputs": [
    {
     "data": {
      "text/plain": [
       "User(id=UUID('aa8c98ed-f479-4a36-9afa-0319bba06b46'), username='admin', age=30, location='Moscow')"
      ]
     },
     "execution_count": 74,
     "metadata": {},
     "output_type": "execute_result"
    }
   ],
   "source": [
    "User(**{'username': 'admin', 'id': uuid4(), 'age': 30, 'location': 'Moscow'})"
   ]
  },
  {
   "cell_type": "code",
   "execution_count": 77,
   "id": "30cf82a6",
   "metadata": {},
   "outputs": [],
   "source": [
    "from pydantic import BaseModel\n",
    "from uuid import UUID, uuid4\n",
    "\n",
    "\n",
    "class User(BaseModel):\n",
    "    id: UUID\n",
    "    username: str\n",
    "        \n",
    "    class Config:\n",
    "        extra='ignore'"
   ]
  },
  {
   "cell_type": "code",
   "execution_count": 78,
   "id": "9c0a1fd2",
   "metadata": {},
   "outputs": [
    {
     "data": {
      "text/plain": [
       "User(id=UUID('c0d189a1-1815-445c-98ce-84f711a34fb1'), username='admin')"
      ]
     },
     "execution_count": 78,
     "metadata": {},
     "output_type": "execute_result"
    }
   ],
   "source": [
    "User(**{'username': 'admin', 'id': uuid4(), 'age': 30, 'location': 'Moscow'})"
   ]
  },
  {
   "cell_type": "markdown",
   "id": "0fd18d3c",
   "metadata": {},
   "source": []
  },
  {
   "cell_type": "markdown",
   "id": "090f685f",
   "metadata": {},
   "source": [
    "#### Aliases\n",
    "alias - указывает pydantic по какому ключу искать данные"
   ]
  },
  {
   "cell_type": "code",
   "execution_count": 19,
   "id": "e7c27585",
   "metadata": {},
   "outputs": [],
   "source": [
    "import datetime\n",
    "\n",
    "from typing import Union\n",
    "from pydantic import BaseModel, Field\n",
    "\n",
    "\n",
    "\n",
    "class PostSchema(BaseModel):\n",
    "    user: str\n",
    "    text: str\n",
    "    last_modified_data: datetime.datetime = Field(alias='LastModifiedData')"
   ]
  },
  {
   "cell_type": "code",
   "execution_count": 21,
   "id": "8de73488",
   "metadata": {},
   "outputs": [
    {
     "data": {
      "text/plain": [
       "PostSchema(user='admin', text='Hello word!', last_modified_data=datetime.datetime(2021, 5, 4, 0, 0))"
      ]
     },
     "execution_count": 21,
     "metadata": {},
     "output_type": "execute_result"
    }
   ],
   "source": [
    "post = {\n",
    "    'user': 'admin',\n",
    "    'text': 'Hello word!',\n",
    "    'LastModifiedData': datetime.datetime(year=2021, month=5, day=4)\n",
    "}\n",
    "\n",
    "PostSchema(**post)"
   ]
  },
  {
   "cell_type": "markdown",
   "id": "e01cbea5",
   "metadata": {},
   "source": [
    "### Inheritance\n"
   ]
  },
  {
   "cell_type": "markdown",
   "id": "6825e16f",
   "metadata": {},
   "source": [
    "Наследование работает так же как в python"
   ]
  },
  {
   "cell_type": "code",
   "execution_count": 19,
   "id": "18e834b9",
   "metadata": {},
   "outputs": [],
   "source": [
    "from typing import Optional\n",
    "from pydantic import BaseModel, EmailStr\n",
    "\n",
    "\n",
    "class Person(BaseModel):\n",
    "    email: EmailStr\n",
    "        \n",
    "\n",
    "class Customer(Person):\n",
    "    total_spending: Optional[int] = 0"
   ]
  },
  {
   "cell_type": "code",
   "execution_count": 15,
   "id": "56993872",
   "metadata": {},
   "outputs": [
    {
     "data": {
      "text/plain": [
       "Customer(email='foo@bar.com', total_spending=200)"
      ]
     },
     "execution_count": 15,
     "metadata": {},
     "output_type": "execute_result"
    }
   ],
   "source": [
    "Customer(email='foo@bar.com', total_spending=200)"
   ]
  },
  {
   "cell_type": "code",
   "execution_count": 16,
   "id": "cec1c27b",
   "metadata": {},
   "outputs": [
    {
     "ename": "TypeError",
     "evalue": "__init__() takes exactly 1 positional argument (3 given)",
     "output_type": "error",
     "traceback": [
      "\u001b[0;31m---------------------------------------------------------------------------\u001b[0m",
      "\u001b[0;31mTypeError\u001b[0m                                 Traceback (most recent call last)",
      "\u001b[0;32m<ipython-input-16-9ec6a6f66581>\u001b[0m in \u001b[0;36m<module>\u001b[0;34m\u001b[0m\n\u001b[0;32m----> 1\u001b[0;31m \u001b[0mCustomer\u001b[0m\u001b[0;34m(\u001b[0m\u001b[0;34m'foo@bar.com'\u001b[0m\u001b[0;34m,\u001b[0m \u001b[0;36m200\u001b[0m\u001b[0;34m)\u001b[0m\u001b[0;34m\u001b[0m\u001b[0;34m\u001b[0m\u001b[0m\n\u001b[0m",
      "\u001b[0;32m/usr/local/lib/python3.9/site-packages/pydantic/main.cpython-39-darwin.so\u001b[0m in \u001b[0;36mpydantic.main.BaseModel.__init__\u001b[0;34m()\u001b[0m\n",
      "\u001b[0;31mTypeError\u001b[0m: __init__() takes exactly 1 positional argument (3 given)"
     ]
    }
   ],
   "source": [
    "Customer('foo@bar.com', 200)"
   ]
  },
  {
   "cell_type": "code",
   "execution_count": 20,
   "id": "7bc196d1",
   "metadata": {},
   "outputs": [
    {
     "data": {
      "text/plain": [
       "{'email': ModelField(name='email', type=EmailStr, required=True),\n",
       " 'total_spending': ModelField(name='total_spending', type=Optional[int], required=False, default=0)}"
      ]
     },
     "execution_count": 20,
     "metadata": {},
     "output_type": "execute_result"
    }
   ],
   "source": [
    "Customer.__fields__"
   ]
  },
  {
   "cell_type": "code",
   "execution_count": 21,
   "id": "88f3542f",
   "metadata": {},
   "outputs": [],
   "source": [
    "from typing import Optional\n",
    "from pydantic import BaseModel, EmailStr\n",
    "\n",
    "\n",
    "class Person(BaseModel):\n",
    "    email: EmailStr\n",
    "    name: Optional[str]\n",
    "        \n",
    "\n",
    "class Customer(Person):\n",
    "    total_spending: int"
   ]
  },
  {
   "cell_type": "code",
   "execution_count": 18,
   "id": "76a482a9",
   "metadata": {},
   "outputs": [
    {
     "data": {
      "text/plain": [
       "Customer(email='foo@bar.com', name=None, total_spending=200)"
      ]
     },
     "execution_count": 18,
     "metadata": {},
     "output_type": "execute_result"
    }
   ],
   "source": [
    "Customer(email='foo@bar.com', total_spending=200)"
   ]
  },
  {
   "cell_type": "code",
   "execution_count": 22,
   "id": "1cb84ff5",
   "metadata": {},
   "outputs": [
    {
     "ename": "TypeError",
     "evalue": "__init__() takes exactly 1 positional argument (3 given)",
     "output_type": "error",
     "traceback": [
      "\u001b[0;31m---------------------------------------------------------------------------\u001b[0m",
      "\u001b[0;31mTypeError\u001b[0m                                 Traceback (most recent call last)",
      "\u001b[0;32m<ipython-input-22-9ec6a6f66581>\u001b[0m in \u001b[0;36m<module>\u001b[0;34m\u001b[0m\n\u001b[0;32m----> 1\u001b[0;31m \u001b[0mCustomer\u001b[0m\u001b[0;34m(\u001b[0m\u001b[0;34m'foo@bar.com'\u001b[0m\u001b[0;34m,\u001b[0m \u001b[0;36m200\u001b[0m\u001b[0;34m)\u001b[0m\u001b[0;34m\u001b[0m\u001b[0;34m\u001b[0m\u001b[0m\n\u001b[0m",
      "\u001b[0;32m/usr/local/lib/python3.9/site-packages/pydantic/main.cpython-39-darwin.so\u001b[0m in \u001b[0;36mpydantic.main.BaseModel.__init__\u001b[0;34m()\u001b[0m\n",
      "\u001b[0;31mTypeError\u001b[0m: __init__() takes exactly 1 positional argument (3 given)"
     ]
    }
   ],
   "source": [
    "Customer('foo@bar.com', 200)"
   ]
  },
  {
   "cell_type": "markdown",
   "id": "bc97dae2",
   "metadata": {},
   "source": [
    "Pydantic & Settings "
   ]
  },
  {
   "cell_type": "code",
   "execution_count": 2,
   "id": "79879ce1",
   "metadata": {},
   "outputs": [
    {
     "name": "stdout",
     "output_type": "stream",
     "text": [
      "env: APP_HOST=127.0.0.1\n"
     ]
    }
   ],
   "source": [
    "%set_env APP_HOST=127.0.0.1"
   ]
  },
  {
   "cell_type": "code",
   "execution_count": 3,
   "id": "0fc08246",
   "metadata": {},
   "outputs": [
    {
     "name": "stdout",
     "output_type": "stream",
     "text": [
      "env: APP_PORT=8000\n"
     ]
    }
   ],
   "source": [
    "%set_env APP_PORT=8000"
   ]
  },
  {
   "cell_type": "code",
   "execution_count": null,
   "id": "e289f7e1",
   "metadata": {},
   "outputs": [],
   "source": [
    "!set"
   ]
  },
  {
   "cell_type": "code",
   "execution_count": 5,
   "id": "aaccf795",
   "metadata": {},
   "outputs": [],
   "source": [
    "from pydantic import BaseSettings\n",
    "\n",
    "\n",
    "class AppSettings(BaseSettings):\n",
    "    host: str\n",
    "    port: int\n",
    "        \n",
    "    class Config:\n",
    "        env_prefix = 'APP_'"
   ]
  },
  {
   "cell_type": "code",
   "execution_count": 7,
   "id": "2bbf5e3e",
   "metadata": {},
   "outputs": [
    {
     "data": {
      "text/plain": [
       "AppSettings(host='127.0.0.1', port=8000)"
      ]
     },
     "execution_count": 7,
     "metadata": {},
     "output_type": "execute_result"
    }
   ],
   "source": [
    "app_settings = AppSettings()\n",
    "app_settings"
   ]
  },
  {
   "cell_type": "code",
   "execution_count": 8,
   "id": "d29396e9",
   "metadata": {},
   "outputs": [
    {
     "data": {
      "text/plain": [
       "'127.0.0.1'"
      ]
     },
     "execution_count": 8,
     "metadata": {},
     "output_type": "execute_result"
    }
   ],
   "source": [
    "app_settings.host"
   ]
  },
  {
   "cell_type": "code",
   "execution_count": 58,
   "id": "a2e9ef44",
   "metadata": {},
   "outputs": [],
   "source": [
    "!unset APP_HOST"
   ]
  },
  {
   "cell_type": "code",
   "execution_count": 59,
   "id": "94128059",
   "metadata": {},
   "outputs": [],
   "source": [
    "!unset APP_PORT"
   ]
  },
  {
   "cell_type": "markdown",
   "id": "90e3c52c",
   "metadata": {},
   "source": [
    "\n",
    "\n"
   ]
  },
  {
   "cell_type": "markdown",
   "id": "b5fc7162",
   "metadata": {},
   "source": [
    "#### Inside Pydantic\n",
    "Pydantic основан на:\n",
    " * \\_\\_annotations\\_\\_\n",
    " * Metaclasses\n",
    " * setattr"
   ]
  },
  {
   "cell_type": "markdown",
   "id": "604b8e61",
   "metadata": {},
   "source": [
    "## Плюсы pydantic"
   ]
  },
  {
   "cell_type": "markdown",
   "id": "1a41c67f",
   "metadata": {},
   "source": [
    "## фичи"
   ]
  },
  {
   "cell_type": "markdown",
   "id": "9c3c11d6",
   "metadata": {},
   "source": [
    "Optional:"
   ]
  }
 ],
 "metadata": {
  "kernelspec": {
   "display_name": "Python 3",
   "language": "python",
   "name": "python3"
  },
  "language_info": {
   "codemirror_mode": {
    "name": "ipython",
    "version": 3
   },
   "file_extension": ".py",
   "mimetype": "text/x-python",
   "name": "python",
   "nbconvert_exporter": "python",
   "pygments_lexer": "ipython3",
   "version": "3.9.5"
  }
 },
 "nbformat": 4,
 "nbformat_minor": 5
}
